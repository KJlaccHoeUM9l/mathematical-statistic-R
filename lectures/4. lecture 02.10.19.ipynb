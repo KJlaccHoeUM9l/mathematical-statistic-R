{
 "cells": [
  {
   "cell_type": "markdown",
   "metadata": {},
   "source": [
    "# Критерии согласия.\n",
    "\n",
    "Пусть дана выборка $x_1, ... , x_n$ из неизвестного закона распределения (с функцией распределения $F(u)$).\n",
    "\n",
    "Вводится гипотеза о виде этой функции распределения:\n",
    "\n",
    "$H_0: F(u) =? F_0(u)$ - это `0-гипотеза`\n",
    "\n",
    "$H_1:$ `альтернативная гипотеза`\n",
    "\n",
    "Как проверить, что гипотеза $H_0$ верна, если доступна только выборка?\n",
    "\n",
    "Нужно найти меру расхождения между эмперической и предполагаемой функциями распределения:\n",
    "$$D_n = \\max_u|F_n(u, x_1,...,x_n)-F_0(u)|$$\n",
    "\n",
    "## Критическая область\n",
    "$\\{(x_1,...x_n: D_n < C_\\alpha)\\}$ - `область принятия гипотезы`\n",
    "\n",
    "$\\{(x_1,...x_n: D_n \\ge C_\\alpha)\\}$ - `область отвержения гипотезы`(критическая область)\n",
    "\n",
    "## Ошибка первого рода\n",
    "$\\alpha = P_{H_0}(D_n \\ge C_\\alpha)$ - `вероятность ошибки первого рода` (уровень значимости желания)\n",
    "\n",
    "## Достигнутый уровень значимости\n",
    "`p-value`$=P_{H_0}(D_n \\ge D_{n, эксперементальное})$\n",
    "\n",
    "Берем полученное значение в качестве границы критической области и вычисляем вероятность для нее при данной $H_0$.\n",
    "* Если `p-value` > $\\alpha$, то $H_0$ не отвергается\n",
    "* Если `p-value` < $\\alpha$, то $H_0$ отвергается\n",
    "\n",
    "Типовыми уровнями значимости $\\alpha$ обычно берутся следующие значения: `10%, 5%, 2.5%, 1%, 0.5%`\n",
    "\n",
    "## Критерий Колмагорова-Смирнова\n",
    "(Для непрерывных случайных величин)"
   ]
  },
  {
   "cell_type": "code",
   "execution_count": 75,
   "metadata": {},
   "outputs": [],
   "source": [
    "X = runif(100)"
   ]
  },
  {
   "cell_type": "code",
   "execution_count": 76,
   "metadata": {},
   "outputs": [
    {
     "data": {
      "text/plain": [
       "\n",
       "\tOne-sample Kolmogorov-Smirnov test\n",
       "\n",
       "data:  X\n",
       "D = 0.068305, p-value = 0.7392\n",
       "alternative hypothesis: two-sided\n"
      ]
     },
     "metadata": {},
     "output_type": "display_data"
    }
   ],
   "source": [
    "ks.test(X, punif)"
   ]
  },
  {
   "cell_type": "markdown",
   "metadata": {},
   "source": [
    "Посмотрим, что выдаст критерий, если применить его для заведомо неверного распределения. Проведем этот эксперимент на примере нормального распределения с параметрами среднего значения и дисперсии, полученными из выборки Х. "
   ]
  },
  {
   "cell_type": "code",
   "execution_count": 78,
   "metadata": {},
   "outputs": [
    {
     "data": {
      "text/plain": [
       "\n",
       "\tOne-sample Kolmogorov-Smirnov test\n",
       "\n",
       "data:  X\n",
       "D = 0.58981, p-value < 2.2e-16\n",
       "alternative hypothesis: two-sided\n"
      ]
     },
     "metadata": {},
     "output_type": "display_data"
    }
   ],
   "source": [
    "mean<-mean(X)\n",
    "std<-sqrt(var(X))\n",
    "ks.test(X, pnorm, mean-mean, sd=std)"
   ]
  },
  {
   "cell_type": "code",
   "execution_count": 80,
   "metadata": {},
   "outputs": [
    {
     "data": {
      "image/png": "[encoded data removed]",
      "text/plain": [
       "Plot with title \"Histogram of X\""
      ]
     },
     "metadata": {},
     "output_type": "display_data"
    }
   ],
   "source": [
    "hist(X, pr=T, col=\"gold\")\n",
    "curve(dunif(x), add=T, col=\"blue\", lwd=3)\n",
    "curve(dnorm(x, mean, std), add=T, col=\"red\", lwd=3)"
   ]
  },
  {
   "cell_type": "markdown",
   "metadata": {},
   "source": [
    "Видно, что `p-value` для нормального распределения практически равно нулю, значит гипотеза должна быть отвергнута. "
   ]
  },
  {
   "cell_type": "markdown",
   "metadata": {},
   "source": [
    "## Пример. Правило 12 слагаемых.\n",
    "\n",
    "Рассматривается случайная величина, определенная следующим образом:\n",
    "\n",
    "$X = U_1+...+U_{12} - 6$,\n",
    "\n",
    "где $U_1, ... , U_{12}$ - это независимые одинаково распрделенные случайные величины с равномерным распредлением на отрезке \\[0, 1\\].\n",
    "\n",
    "Тогда на основании центральной предельной теоремы случайная величина Х распределена по нормальному закону $N(0, 1)$\n",
    "\n",
    "Проверим данное утверждение с помощью критерия Колмогорова-Смирнова.\n",
    "\n",
    "$H_0: X$ ~ $N(0,1)$\n",
    "\n",
    "$H_1: X$ имеет другое распределение"
   ]
  },
  {
   "cell_type": "code",
   "execution_count": 84,
   "metadata": {},
   "outputs": [],
   "source": [
    "X<-replicate(100, sum(runif(12)) - 6)"
   ]
  },
  {
   "cell_type": "code",
   "execution_count": 85,
   "metadata": {},
   "outputs": [
    {
     "data": {
      "text/plain": [
       "\n",
       "\tOne-sample Kolmogorov-Smirnov test\n",
       "\n",
       "data:  X\n",
       "D = 0.079653, p-value = 0.5498\n",
       "alternative hypothesis: two-sided\n"
      ]
     },
     "metadata": {},
     "output_type": "display_data"
    }
   ],
   "source": [
    "ks.test(X, pnorm, mean=0, sd=1)"
   ]
  },
  {
   "cell_type": "code",
   "execution_count": 86,
   "metadata": {},
   "outputs": [
    {
     "data": {
      "image/png": "[encoded data removed]",
      "text/plain": [
       "Plot with title \"Histogram of X\""
      ]
     },
     "metadata": {},
     "output_type": "display_data"
    }
   ],
   "source": [
    "hist(X, pr=T, col=\"gold\")\n",
    "curve(dnorm, add=T, col=\"blue\", lwd=3)"
   ]
  },
  {
   "cell_type": "markdown",
   "metadata": {},
   "source": [
    "## Критерий согласия $\\chi^2$.\n",
    "\n",
    "Идея заключается в том, чтобы сравнивать ожидаемые от распредления частоты с наблюдаемыми частотами и вычислять на основе этого некоторую характеристику:\n",
    "\n",
    "$R=\\sum_{i=1}^{l}\\frac{(n_i-p_in)^2}{np_i}$,\n",
    "\n",
    "где $l$ - колчество различных значений, которые принимает случайная величина, $p_i$ - вероятность появления определенного значения, $n_i$ - наблюдаемое число появлений каждого из этих значений (абсолютные частоты), $n$ - число экспериментов.\n",
    "\n",
    "Если $H_0$ `справедлива`, то R должно быть `маленьким`.\n",
    "\n",
    "Область принятия $H_0$ - область маленьких значений R.\n",
    "\n",
    "Область отвержения $H_0$ - область больших значений R."
   ]
  },
  {
   "cell_type": "markdown",
   "metadata": {},
   "source": [
    "## Пример. 4040 бросков монеты.\n",
    "\n",
    "Монету подбросили 4040 раз. При этом было 2048 гербов.\n",
    "\n",
    "Необходимо проверить, является ли монета симметричной."
   ]
  },
  {
   "cell_type": "code",
   "execution_count": 87,
   "metadata": {},
   "outputs": [],
   "source": [
    "ni<-c(2048, 4040-2048)\n",
    "pi<-c(0.5, 0.5)"
   ]
  },
  {
   "cell_type": "code",
   "execution_count": 90,
   "metadata": {},
   "outputs": [
    {
     "data": {
      "text/plain": [
       "\n",
       "\tChi-squared test for given probabilities\n",
       "\n",
       "data:  ni\n",
       "X-squared = 0.77624, df = 1, p-value = 0.3783\n"
      ]
     },
     "metadata": {},
     "output_type": "display_data"
    }
   ],
   "source": [
    "# df - degrees of freedom (степени свободы)\n",
    "chisq.test(ni, p=pi)"
   ]
  },
  {
   "cell_type": "code",
   "execution_count": null,
   "metadata": {},
   "outputs": [],
   "source": []
  },
  {
   "cell_type": "markdown",
   "metadata": {},
   "source": [
    "## Эксперимент Менделя."
   ]
  },
  {
   "cell_type": "code",
   "execution_count": 91,
   "metadata": {},
   "outputs": [],
   "source": [
    "ni<-c(315, 101, 108, 32)\n",
    "pi<-c(9/16, 3/16, 3/16, 1/16)"
   ]
  },
  {
   "cell_type": "code",
   "execution_count": 92,
   "metadata": {},
   "outputs": [
    {
     "data": {
      "text/plain": [
       "\n",
       "\tChi-squared test for given probabilities\n",
       "\n",
       "data:  ni\n",
       "X-squared = 0.47002, df = 3, p-value = 0.9254\n"
      ]
     },
     "metadata": {},
     "output_type": "display_data"
    }
   ],
   "source": [
    "chisq.test(ni, p=pi)"
   ]
  },
  {
   "cell_type": "markdown",
   "metadata": {},
   "source": [
    "## Правило 12 слагаемых с критерием $\\chi^2$.\n",
    "\n",
    "Проверим гипотезу из соответствующего примера с помощью нового критерия.\n",
    "\n",
    "Чтобы им воспользоваться, необходимо иметь таблицу абсолютных частот для неприрывной величины, поэтому разобем все ее значения на интервалы и посчитаем для каждого интервала частоты и вероятности."
   ]
  },
  {
   "cell_type": "code",
   "execution_count": 93,
   "metadata": {},
   "outputs": [],
   "source": [
    "X<-replicate(100, sum(runif(12)) - 6)"
   ]
  },
  {
   "cell_type": "code",
   "execution_count": 98,
   "metadata": {},
   "outputs": [
    {
     "name": "stdout",
     "output_type": "stream",
     "text": [
      "\n",
      "(-Inf,-2] (-2,-0.5]  (-0.5,0]     (0,1]     (1,3]  (3, Inf] \n",
      "        2        25        22        39        12         0 \n"
     ]
    }
   ],
   "source": [
    "ni<-table(cut(X, br=borders))\n",
    "print(ni)"
   ]
  },
  {
   "cell_type": "code",
   "execution_count": 99,
   "metadata": {},
   "outputs": [
    {
     "name": "stdout",
     "output_type": "stream",
     "text": [
      "[1] 0.022750132 0.285787407 0.191462461 0.341344746 0.157305356 0.001349898\n"
     ]
    }
   ],
   "source": [
    "pi<-diff(pnorm(borders))\n",
    "print(pi)"
   ]
  },
  {
   "cell_type": "code",
   "execution_count": 100,
   "metadata": {},
   "outputs": [
    {
     "name": "stderr",
     "output_type": "stream",
     "text": [
      "Warning message in chisq.test(ni, p = pi):\n",
      "\"Chi-squared approximation may be incorrect\""
     ]
    },
    {
     "data": {
      "text/plain": [
       "\n",
       "\tChi-squared test for given probabilities\n",
       "\n",
       "data:  ni\n",
       "X-squared = 2.62, df = 5, p-value = 0.7583\n"
      ]
     },
     "metadata": {},
     "output_type": "display_data"
    }
   ],
   "source": [
    "chisq.test(ni, p=pi)"
   ]
  },
  {
   "cell_type": "code",
   "execution_count": null,
   "metadata": {},
   "outputs": [],
   "source": []
  }
 ],
 "metadata": {
  "kernelspec": {
   "display_name": "R",
   "language": "R",
   "name": "ir"
  },
  "language_info": {
   "codemirror_mode": "r",
   "file_extension": ".r",
   "mimetype": "text/x-r-source",
   "name": "R",
   "pygments_lexer": "r",
   "version": "3.6.1"
  }
 },
 "nbformat": 4,
 "nbformat_minor": 2
}
