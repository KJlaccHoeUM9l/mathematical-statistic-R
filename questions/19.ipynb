{
 "cells": [
  {
   "cell_type": "markdown",
   "metadata": {},
   "source": [
    "## 19. Модель Гаусса-Маркова простой линейной регрессии. Оценка параметров и анализ остатков."
   ]
  },
  {
   "cell_type": "markdown",
   "metadata": {},
   "source": [
    "### Пример.\n",
    "\n",
    "Себестоимость экземпляра книги в зависимости от тиража."
   ]
  },
  {
   "cell_type": "code",
   "execution_count": 1,
   "metadata": {},
   "outputs": [],
   "source": [
    "x<-c(    1,    2,    3,    5,   10,   20,  50,  100,  200)\n",
    "y<-c(10.15, 5.52, 4.08, 2.11, 1.62, 1.42, 1.3, 1.21, 1.15)"
   ]
  },
  {
   "cell_type": "code",
   "execution_count": 12,
   "metadata": {},
   "outputs": [
    {
     "data": {
      "image/png": "[encoded data removed]",
      "text/plain": [
       "plot without title"
      ]
     },
     "metadata": {},
     "output_type": "display_data"
    }
   ],
   "source": [
    "plot(x,y,col = 'gold', lwd = 10)"
   ]
  },
  {
   "cell_type": "markdown",
   "metadata": {},
   "source": [
    "Из графика видно, что зависимость не линейная: $y=a+\\frac{b}{x}$, но если сделать замену $z=\\frac{1}{x}$, то модель станет линейной.\n",
    "\n",
    "Для этого используют специальные оператор `I`\n",
    "\n",
    "`lm` - linear model"
   ]
  },
  {
   "cell_type": "code",
   "execution_count": 13,
   "metadata": {},
   "outputs": [
    {
     "data": {
      "text/plain": [
       "\n",
       "Call:\n",
       "lm(formula = y ~ I(1/x))\n",
       "\n",
       "Coefficients:\n",
       "(Intercept)       I(1/x)  \n",
       "      0.920        9.142  \n"
      ]
     },
     "metadata": {},
     "output_type": "display_data"
    }
   ],
   "source": [
    "lm(y~I(1/x))->y.lm1\n",
    "y.lm1"
   ]
  },
  {
   "cell_type": "markdown",
   "metadata": {},
   "source": [
    "$y = a + bx$\n",
    "* `a` - intercept \n",
    "* `b` - slope"
   ]
  },
  {
   "cell_type": "markdown",
   "metadata": {},
   "source": [
    "Для того, чтобы узнать все, что выдает функция для регрессии, нужно использовать `summary`. Функкия выдает следующие значения:\n",
    "* строка, которая показывает по какой формуле строилась модель\n",
    "* информация о распределении остатков\n",
    "* строка с коэффициентами (оценка, стандартная ошибка, значене t-статистики и p-value)\n",
    "\n",
    "Также R обозначает звездочками `значимые` коэффициенты, т.е. те, для которых p-value достаточно мало (значит эти коэффициенты с малой вероятностью равны нулю)."
   ]
  },
  {
   "cell_type": "code",
   "execution_count": 14,
   "metadata": {},
   "outputs": [
    {
     "data": {
      "text/plain": [
       "\n",
       "Call:\n",
       "lm(formula = y ~ I(1/x))\n",
       "\n",
       "Residuals:\n",
       "     Min       1Q   Median       3Q      Max \n",
       "-0.63840  0.02901  0.08804  0.18428  0.19857 \n",
       "\n",
       "Coefficients:\n",
       "            Estimate Std. Error t value Pr(>|t|)    \n",
       "(Intercept)   0.9200     0.1234   7.453 0.000143 ***\n",
       "I(1/x)        9.1419     0.3114  29.356 1.37e-08 ***\n",
       "---\n",
       "Signif. codes:  0 '***' 0.001 '**' 0.01 '*' 0.05 '.' 0.1 ' ' 1\n",
       "\n",
       "Residual standard error: 0.29 on 7 degrees of freedom\n",
       "Multiple R-squared:  0.9919,\tAdjusted R-squared:  0.9908 \n",
       "F-statistic: 861.8 on 1 and 7 DF,  p-value: 1.371e-08\n"
      ]
     },
     "metadata": {},
     "output_type": "display_data"
    }
   ],
   "source": [
    "summary(y.lm1)"
   ]
  },
  {
   "cell_type": "markdown",
   "metadata": {},
   "source": [
    "С помощью функции `anova` можно получить таблицу дисперсионного анализа"
   ]
  },
  {
   "cell_type": "code",
   "execution_count": 15,
   "metadata": {},
   "outputs": [
    {
     "data": {
      "text/html": [
       "<table>\n",
       "<caption>A anova: 2 × 5</caption>\n",
       "<thead>\n",
       "\t<tr><th></th><th scope=col>Df</th><th scope=col>Sum Sq</th><th scope=col>Mean Sq</th><th scope=col>F value</th><th scope=col>Pr(&gt;F)</th></tr>\n",
       "\t<tr><th></th><th scope=col>&lt;int&gt;</th><th scope=col>&lt;dbl&gt;</th><th scope=col>&lt;dbl&gt;</th><th scope=col>&lt;dbl&gt;</th><th scope=col>&lt;dbl&gt;</th></tr>\n",
       "</thead>\n",
       "<tbody>\n",
       "\t<tr><th scope=row>I(1/x)</th><td>1</td><td>72.4895757</td><td>72.48957573</td><td>861.7631</td><td>1.370837e-08</td></tr>\n",
       "\t<tr><th scope=row>Residuals</th><td>7</td><td> 0.5888243</td><td> 0.08411775</td><td>      NA</td><td>          NA</td></tr>\n",
       "</tbody>\n",
       "</table>\n"
      ],
      "text/latex": [
       "A anova: 2 × 5\n",
       "\\begin{tabular}{r|lllll}\n",
       "  & Df & Sum Sq & Mean Sq & F value & Pr(>F)\\\\\n",
       "  & <int> & <dbl> & <dbl> & <dbl> & <dbl>\\\\\n",
       "\\hline\n",
       "\tI(1/x) & 1 & 72.4895757 & 72.48957573 & 861.7631 & 1.370837e-08\\\\\n",
       "\tResiduals & 7 &  0.5888243 &  0.08411775 &       NA &           NA\\\\\n",
       "\\end{tabular}\n"
      ],
      "text/markdown": [
       "\n",
       "A anova: 2 × 5\n",
       "\n",
       "| <!--/--> | Df &lt;int&gt; | Sum Sq &lt;dbl&gt; | Mean Sq &lt;dbl&gt; | F value &lt;dbl&gt; | Pr(&gt;F) &lt;dbl&gt; |\n",
       "|---|---|---|---|---|---|\n",
       "| I(1/x) | 1 | 72.4895757 | 72.48957573 | 861.7631 | 1.370837e-08 |\n",
       "| Residuals | 7 |  0.5888243 |  0.08411775 |       NA |           NA |\n",
       "\n"
      ],
      "text/plain": [
       "          Df Sum Sq     Mean Sq     F value  Pr(>F)      \n",
       "I(1/x)    1  72.4895757 72.48957573 861.7631 1.370837e-08\n",
       "Residuals 7   0.5888243  0.08411775       NA           NA"
      ]
     },
     "metadata": {},
     "output_type": "display_data"
    }
   ],
   "source": [
    "anova(y.lm1)"
   ]
  },
  {
   "cell_type": "markdown",
   "metadata": {},
   "source": [
    "Необходимо проверить `ошибки` на нормальность, потому что в предположении регрессии шум в данных имеет нормальное распределение"
   ]
  },
  {
   "cell_type": "code",
   "execution_count": 19,
   "metadata": {},
   "outputs": [
    {
     "data": {
      "text/plain": [
       "\n",
       "\tShapiro-Wilk normality test\n",
       "\n",
       "data:  resid(y.lm1)\n",
       "W = 0.74763, p-value = 0.00509\n"
      ]
     },
     "metadata": {},
     "output_type": "display_data"
    },
    {
     "data": {
      "image/png": "[encoded data removed]",
      "text/plain": [
       "Plot with title \"Normal Q-Q Plot\""
      ]
     },
     "metadata": {},
     "output_type": "display_data"
    }
   ],
   "source": [
    "shapiro.test(resid(y.lm1))\n",
    "qqnorm(resid(y.lm1))"
   ]
  },
  {
   "cell_type": "markdown",
   "metadata": {},
   "source": [
    "Исходя из значения p-value и графика квантилей, приходим к выводу, что нормальности нет."
   ]
  },
  {
   "cell_type": "markdown",
   "metadata": {},
   "source": [
    "Нарисуем линию регрессии по подобранным параметрам"
   ]
  },
  {
   "cell_type": "code",
   "execution_count": 22,
   "metadata": {},
   "outputs": [
    {
     "data": {
      "image/png": "[encoded data removed]",
      "text/plain": [
       "plot without title"
      ]
     },
     "metadata": {},
     "output_type": "display_data"
    }
   ],
   "source": [
    "plot(x,y,col = 'gold', lwd = 10)\n",
    "lines(x, fitted(y.lm1), col = 'cyan', lwd = 5) # x_i, y_i"
   ]
  },
  {
   "cell_type": "markdown",
   "metadata": {},
   "source": [
    "Также с помощью подобранных параметров можно найти значения себестоимости вне точек сетки тиража"
   ]
  },
  {
   "cell_type": "code",
   "execution_count": 23,
   "metadata": {},
   "outputs": [
    {
     "data": {
      "text/html": [
       "<dl class=dl-horizontal>\n",
       "\t<dt>1</dt>\n",
       "\t\t<dd>7.0146429593202</dd>\n",
       "\t<dt>2</dt>\n",
       "\t\t<dd>3.20549943421202</dd>\n",
       "\t<dt>3</dt>\n",
       "\t\t<dd>1.22474480115577</dd>\n",
       "</dl>\n"
      ],
      "text/latex": [
       "\\begin{description*}\n",
       "\\item[1] 7.0146429593202\n",
       "\\item[2] 3.20549943421202\n",
       "\\item[3] 1.22474480115577\n",
       "\\end{description*}\n"
      ],
      "text/markdown": [
       "1\n",
       ":   7.01464295932022\n",
       ":   3.205499434212023\n",
       ":   1.22474480115577\n",
       "\n"
      ],
      "text/plain": [
       "       1        2        3 \n",
       "7.014643 3.205499 1.224745 "
      ]
     },
     "metadata": {},
     "output_type": "display_data"
    }
   ],
   "source": [
    "predict(y.lm1, list(x=c(1.5, 4, 30)))"
   ]
  },
  {
   "cell_type": "code",
   "execution_count": null,
   "metadata": {},
   "outputs": [],
   "source": []
  }
 ],
 "metadata": {
  "kernelspec": {
   "display_name": "R",
   "language": "R",
   "name": "ir"
  },
  "language_info": {
   "codemirror_mode": "r",
   "file_extension": ".r",
   "mimetype": "text/x-r-source",
   "name": "R",
   "pygments_lexer": "r",
   "version": "3.6.1"
  }
 },
 "nbformat": 4,
 "nbformat_minor": 2
}
