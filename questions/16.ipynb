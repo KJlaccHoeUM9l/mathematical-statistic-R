{
 "cells": [
  {
   "cell_type": "markdown",
   "metadata": {},
   "source": [
    "## 16. Задача об обнаружении эффекта обработки в предположении о совместном нормальном распределении. Критерий Стьюдента для проверки соответствующей гипотезы."
   ]
  },
  {
   "cell_type": "markdown",
   "metadata": {},
   "source": [
    "В данной задаче рассматривается выборка из n объектов. Для каждого объекта некоторая характеристика измерена дважды (до обработки и после), поэтому в качестве данных предоставляются n пар измерений.\n",
    "\n",
    "Проверяется гипотеза о том, что среднее значение до обработки и после совпадают.\n",
    "\n",
    "Для обучения используется кадр данных `sleep`, который содержит результаты воздействие двух лекарств на одних и тех же людей. Измерялось увеличение продолжительности сна по сравнению со средней продолжительность до приема.\n",
    "\n",
    "Т.к. первый препарат оказывал влияние на организм, значит испытания были зависимы => парные наблюдения."
   ]
  },
  {
   "cell_type": "code",
   "execution_count": 4,
   "metadata": {},
   "outputs": [
    {
     "data": {
      "text/html": [
       "<table>\n",
       "<caption>A data.frame: 20 × 3</caption>\n",
       "<thead>\n",
       "\t<tr><th scope=col>extra</th><th scope=col>group</th><th scope=col>ID</th></tr>\n",
       "\t<tr><th scope=col>&lt;dbl&gt;</th><th scope=col>&lt;fct&gt;</th><th scope=col>&lt;fct&gt;</th></tr>\n",
       "</thead>\n",
       "<tbody>\n",
       "\t<tr><td> 0.7</td><td>1</td><td>1 </td></tr>\n",
       "\t<tr><td>-1.6</td><td>1</td><td>2 </td></tr>\n",
       "\t<tr><td>-0.2</td><td>1</td><td>3 </td></tr>\n",
       "\t<tr><td>-1.2</td><td>1</td><td>4 </td></tr>\n",
       "\t<tr><td>-0.1</td><td>1</td><td>5 </td></tr>\n",
       "\t<tr><td> 3.4</td><td>1</td><td>6 </td></tr>\n",
       "\t<tr><td> 3.7</td><td>1</td><td>7 </td></tr>\n",
       "\t<tr><td> 0.8</td><td>1</td><td>8 </td></tr>\n",
       "\t<tr><td> 0.0</td><td>1</td><td>9 </td></tr>\n",
       "\t<tr><td> 2.0</td><td>1</td><td>10</td></tr>\n",
       "\t<tr><td> 1.9</td><td>2</td><td>1 </td></tr>\n",
       "\t<tr><td> 0.8</td><td>2</td><td>2 </td></tr>\n",
       "\t<tr><td> 1.1</td><td>2</td><td>3 </td></tr>\n",
       "\t<tr><td> 0.1</td><td>2</td><td>4 </td></tr>\n",
       "\t<tr><td>-0.1</td><td>2</td><td>5 </td></tr>\n",
       "\t<tr><td> 4.4</td><td>2</td><td>6 </td></tr>\n",
       "\t<tr><td> 5.5</td><td>2</td><td>7 </td></tr>\n",
       "\t<tr><td> 1.6</td><td>2</td><td>8 </td></tr>\n",
       "\t<tr><td> 4.6</td><td>2</td><td>9 </td></tr>\n",
       "\t<tr><td> 3.4</td><td>2</td><td>10</td></tr>\n",
       "</tbody>\n",
       "</table>\n"
      ],
      "text/latex": [
       "A data.frame: 20 × 3\n",
       "\\begin{tabular}{r|lll}\n",
       " extra & group & ID\\\\\n",
       " <dbl> & <fct> & <fct>\\\\\n",
       "\\hline\n",
       "\t  0.7 & 1 & 1 \\\\\n",
       "\t -1.6 & 1 & 2 \\\\\n",
       "\t -0.2 & 1 & 3 \\\\\n",
       "\t -1.2 & 1 & 4 \\\\\n",
       "\t -0.1 & 1 & 5 \\\\\n",
       "\t  3.4 & 1 & 6 \\\\\n",
       "\t  3.7 & 1 & 7 \\\\\n",
       "\t  0.8 & 1 & 8 \\\\\n",
       "\t  0.0 & 1 & 9 \\\\\n",
       "\t  2.0 & 1 & 10\\\\\n",
       "\t  1.9 & 2 & 1 \\\\\n",
       "\t  0.8 & 2 & 2 \\\\\n",
       "\t  1.1 & 2 & 3 \\\\\n",
       "\t  0.1 & 2 & 4 \\\\\n",
       "\t -0.1 & 2 & 5 \\\\\n",
       "\t  4.4 & 2 & 6 \\\\\n",
       "\t  5.5 & 2 & 7 \\\\\n",
       "\t  1.6 & 2 & 8 \\\\\n",
       "\t  4.6 & 2 & 9 \\\\\n",
       "\t  3.4 & 2 & 10\\\\\n",
       "\\end{tabular}\n"
      ],
      "text/markdown": [
       "\n",
       "A data.frame: 20 × 3\n",
       "\n",
       "| extra &lt;dbl&gt; | group &lt;fct&gt; | ID &lt;fct&gt; |\n",
       "|---|---|---|\n",
       "|  0.7 | 1 | 1  |\n",
       "| -1.6 | 1 | 2  |\n",
       "| -0.2 | 1 | 3  |\n",
       "| -1.2 | 1 | 4  |\n",
       "| -0.1 | 1 | 5  |\n",
       "|  3.4 | 1 | 6  |\n",
       "|  3.7 | 1 | 7  |\n",
       "|  0.8 | 1 | 8  |\n",
       "|  0.0 | 1 | 9  |\n",
       "|  2.0 | 1 | 10 |\n",
       "|  1.9 | 2 | 1  |\n",
       "|  0.8 | 2 | 2  |\n",
       "|  1.1 | 2 | 3  |\n",
       "|  0.1 | 2 | 4  |\n",
       "| -0.1 | 2 | 5  |\n",
       "|  4.4 | 2 | 6  |\n",
       "|  5.5 | 2 | 7  |\n",
       "|  1.6 | 2 | 8  |\n",
       "|  4.6 | 2 | 9  |\n",
       "|  3.4 | 2 | 10 |\n",
       "\n"
      ],
      "text/plain": [
       "   extra group ID\n",
       "1   0.7  1     1 \n",
       "2  -1.6  1     2 \n",
       "3  -0.2  1     3 \n",
       "4  -1.2  1     4 \n",
       "5  -0.1  1     5 \n",
       "6   3.4  1     6 \n",
       "7   3.7  1     7 \n",
       "8   0.8  1     8 \n",
       "9   0.0  1     9 \n",
       "10  2.0  1     10\n",
       "11  1.9  2     1 \n",
       "12  0.8  2     2 \n",
       "13  1.1  2     3 \n",
       "14  0.1  2     4 \n",
       "15 -0.1  2     5 \n",
       "16  4.4  2     6 \n",
       "17  5.5  2     7 \n",
       "18  1.6  2     8 \n",
       "19  4.6  2     9 \n",
       "20  3.4  2     10"
      ]
     },
     "metadata": {},
     "output_type": "display_data"
    }
   ],
   "source": [
    "sleep"
   ]
  },
  {
   "cell_type": "markdown",
   "metadata": {},
   "source": [
    "Для того, чтобы использовать критерий Стьюдента для парных наблюдений, необходимо:\n",
    "* Передать в функцию выборку из пар объектов (здесь это делается с помощью символа `~`, который разбивает значения столбца extra на пары по значениям из столбца group)\n",
    "* Выставить флаг `paired`, который подтверждает, что используются парные наблюдения"
   ]
  },
  {
   "cell_type": "code",
   "execution_count": 6,
   "metadata": {},
   "outputs": [
    {
     "data": {
      "text/plain": [
       "\n",
       "\tPaired t-test\n",
       "\n",
       "data:  extra by group\n",
       "t = -4.0621, df = 9, p-value = 0.002833\n",
       "alternative hypothesis: true difference in means is not equal to 0\n",
       "95 percent confidence interval:\n",
       " -2.4598858 -0.7001142\n",
       "sample estimates:\n",
       "mean of the differences \n",
       "                  -1.58 \n"
      ]
     },
     "metadata": {},
     "output_type": "display_data"
    }
   ],
   "source": [
    "t.test(extra~group, paired=TRUE,  data=sleep)"
   ]
  },
  {
   "cell_type": "markdown",
   "metadata": {},
   "source": [
    "Гипотеза отвергается, т.к. p-value очень маленькое."
   ]
  },
  {
   "cell_type": "code",
   "execution_count": null,
   "metadata": {},
   "outputs": [],
   "source": []
  }
 ],
 "metadata": {
  "kernelspec": {
   "display_name": "R",
   "language": "R",
   "name": "ir"
  },
  "language_info": {
   "codemirror_mode": "r",
   "file_extension": ".r",
   "mimetype": "text/x-r-source",
   "name": "R",
   "pygments_lexer": "r",
   "version": "3.6.1"
  }
 },
 "nbformat": 4,
 "nbformat_minor": 2
}
