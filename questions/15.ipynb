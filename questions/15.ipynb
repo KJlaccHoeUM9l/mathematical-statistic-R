{
 "cells": [
  {
   "cell_type": "markdown",
   "metadata": {},
   "source": [
    "## 15. Задача о сравнении средних в двух нормальных совокупностях. Критерий Стьюдента. Применение в R.\n",
    "\n",
    "Исследователи собрали данные о действии химического препарата на мух (регистрировали время до смерти каждой мухи). \n",
    "\n",
    "Воздействие продолжалось 30 секунд и 1 минуту.\n",
    "\n",
    "Нужно проверить, что среднее время до смерти в обеих группах совпадает."
   ]
  },
  {
   "cell_type": "code",
   "execution_count": 2,
   "metadata": {},
   "outputs": [],
   "source": [
    "f30 <- c(3,5,5,7,9,9,10,12,20,24,24,34,43,46,58,140)\n",
    "f60 <- c(2,5,5,7,8,9,14,18,24,26,34,37,42,90)"
   ]
  },
  {
   "cell_type": "code",
   "execution_count": 3,
   "metadata": {},
   "outputs": [
    {
     "data": {
      "text/html": [
       "28.0625"
      ],
      "text/latex": [
       "28.0625"
      ],
      "text/markdown": [
       "28.0625"
      ],
      "text/plain": [
       "[1] 28.0625"
      ]
     },
     "metadata": {},
     "output_type": "display_data"
    },
    {
     "data": {
      "text/html": [
       "22.9285714285714"
      ],
      "text/latex": [
       "22.9285714285714"
      ],
      "text/markdown": [
       "22.9285714285714"
      ],
      "text/plain": [
       "[1] 22.92857"
      ]
     },
     "metadata": {},
     "output_type": "display_data"
    }
   ],
   "source": [
    "mean(f30)\n",
    "mean(f60)"
   ]
  },
  {
   "cell_type": "markdown",
   "metadata": {},
   "source": [
    "Для проверки введем гипотезу Н0 о том, что среднее в обеих группах совпадают:\n",
    "    \n",
    "    H0: a1 = a2\n",
    "    \n",
    "    H1: a1 > a2"
   ]
  },
  {
   "cell_type": "code",
   "execution_count": 8,
   "metadata": {},
   "outputs": [
    {
     "data": {
      "text/plain": [
       "\n",
       "\tTwo Sample t-test\n",
       "\n",
       "data:  f30 and f60\n",
       "t = 0.47329, df = 28, p-value = 0.3198\n",
       "alternative hypothesis: true difference in means is greater than 0\n",
       "95 percent confidence interval:\n",
       " -13.31885       Inf\n",
       "sample estimates:\n",
       "mean of x mean of y \n",
       " 28.06250  22.92857 \n"
      ]
     },
     "metadata": {},
     "output_type": "display_data"
    }
   ],
   "source": [
    "t.test(f30, f60, var.equal = TRUE, alt='greater')"
   ]
  },
  {
   "cell_type": "markdown",
   "metadata": {},
   "source": [
    "Исходя из того, что выдает критерий, необходимо принять гипотезу о совпадении средних в обеих группах, потому что p-value > 10%. \n",
    "\n",
    "Но критерий предполагает, что данные имеют нормальное распределение, но так ли это?\n",
    "\n",
    "Для проверки этого воспользуемся критерием Шапиро-Уилкса о принадлежности данных к нормальному закону распределения."
   ]
  },
  {
   "cell_type": "code",
   "execution_count": 7,
   "metadata": {},
   "outputs": [
    {
     "data": {
      "text/plain": [
       "\n",
       "\tShapiro-Wilk normality test\n",
       "\n",
       "data:  f30\n",
       "W = 0.69111, p-value = 0.0001349\n"
      ]
     },
     "metadata": {},
     "output_type": "display_data"
    }
   ],
   "source": [
    "shapiro.test(f30)"
   ]
  },
  {
   "cell_type": "markdown",
   "metadata": {},
   "source": [
    "Данные не имеют нормального распределения! Значит применять критерий нельзя.\n",
    "\n",
    "Также отсутствие принадлежности данных к нормальному распределению подтверждает и квантильный анализ, значения не выстраиваются вдоль одной прямой."
   ]
  },
  {
   "cell_type": "code",
   "execution_count": 6,
   "metadata": {},
   "outputs": [
    {
     "data": {
      "image/png": "[encoded data removed]",
      "text/plain": [
       "Plot with title \"Normal Q-Q Plot\""
      ]
     },
     "metadata": {},
     "output_type": "display_data"
    }
   ],
   "source": [
    "qqnorm(f30, col = 'blue')"
   ]
  },
  {
   "cell_type": "markdown",
   "metadata": {},
   "source": [
    "Попробуем сделать данные нормальными."
   ]
  },
  {
   "cell_type": "code",
   "execution_count": 9,
   "metadata": {},
   "outputs": [],
   "source": [
    "log30 = log(f30)\n",
    "log60 = log(f60)"
   ]
  },
  {
   "cell_type": "code",
   "execution_count": 11,
   "metadata": {},
   "outputs": [
    {
     "data": {
      "text/html": [
       "2.80721666026566"
      ],
      "text/latex": [
       "2.80721666026566"
      ],
      "text/markdown": [
       "2.80721666026566"
      ],
      "text/plain": [
       "[1] 2.807217"
      ]
     },
     "metadata": {},
     "output_type": "display_data"
    },
    {
     "data": {
      "text/html": [
       "2.67678117537531"
      ],
      "text/latex": [
       "2.67678117537531"
      ],
      "text/markdown": [
       "2.67678117537531"
      ],
      "text/plain": [
       "[1] 2.676781"
      ]
     },
     "metadata": {},
     "output_type": "display_data"
    }
   ],
   "source": [
    "mean(log30)\n",
    "mean(log60)"
   ]
  },
  {
   "cell_type": "code",
   "execution_count": 12,
   "metadata": {},
   "outputs": [
    {
     "data": {
      "image/png": "[encoded data removed]",
      "text/plain": [
       "Plot with title \"Normal Q-Q Plot\""
      ]
     },
     "metadata": {},
     "output_type": "display_data"
    }
   ],
   "source": [
    "qqnorm(log(f30), col = 'blue')"
   ]
  },
  {
   "cell_type": "markdown",
   "metadata": {},
   "source": [
    "Видно, что значения выстроились вдоль одной прямой.\n",
    "\n",
    "Для подтверждения этого наблюдения применим критерий Шапиро-Уилкса."
   ]
  },
  {
   "cell_type": "code",
   "execution_count": 13,
   "metadata": {},
   "outputs": [
    {
     "data": {
      "text/plain": [
       "\n",
       "\tShapiro-Wilk normality test\n",
       "\n",
       "data:  log30\n",
       "W = 0.97396, p-value = 0.898\n"
      ]
     },
     "metadata": {},
     "output_type": "display_data"
    },
    {
     "data": {
      "text/plain": [
       "\n",
       "\tShapiro-Wilk normality test\n",
       "\n",
       "data:  log60\n",
       "W = 0.97981, p-value = 0.9737\n"
      ]
     },
     "metadata": {},
     "output_type": "display_data"
    }
   ],
   "source": [
    "shapiro.test(log30)\n",
    "shapiro.test(log60)"
   ]
  },
  {
   "cell_type": "markdown",
   "metadata": {},
   "source": [
    "p-value для обоих выборок значительно выше, чем 0.1, поэтому принимаем гипотезу о том, что данные имеют нормально распределение.\n",
    "\n",
    "Теперь можно воспользоваться критерием Стьюдента для решения исходной задачи."
   ]
  },
  {
   "cell_type": "code",
   "execution_count": 15,
   "metadata": {},
   "outputs": [
    {
     "data": {
      "text/plain": [
       "\n",
       "\tTwo Sample t-test\n",
       "\n",
       "data:  log30 and log60\n",
       "t = 0.34119, df = 28, p-value = 0.3678\n",
       "alternative hypothesis: true difference in means is greater than 0\n",
       "95 percent confidence interval:\n",
       " -0.5198932        Inf\n",
       "sample estimates:\n",
       "mean of x mean of y \n",
       " 2.807217  2.676781 \n"
      ]
     },
     "metadata": {},
     "output_type": "display_data"
    }
   ],
   "source": [
    "t.test(log30, log60, var.equal = T, alt='greater')"
   ]
  },
  {
   "cell_type": "markdown",
   "metadata": {},
   "source": [
    "Значит среднее в обеих выборках совпадает. Таким образом можно сделать заключение о том, что продолжительность воздействия химикатов не влияет на время до смерти."
   ]
  },
  {
   "cell_type": "code",
   "execution_count": null,
   "metadata": {},
   "outputs": [],
   "source": []
  }
 ],
 "metadata": {
  "kernelspec": {
   "display_name": "R",
   "language": "R",
   "name": "ir"
  },
  "language_info": {
   "codemirror_mode": "r",
   "file_extension": ".r",
   "mimetype": "text/x-r-source",
   "name": "R",
   "pygments_lexer": "r",
   "version": "3.6.1"
  }
 },
 "nbformat": 4,
 "nbformat_minor": 2
}
