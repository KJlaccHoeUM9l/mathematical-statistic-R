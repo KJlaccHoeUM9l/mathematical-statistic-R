{
 "cells": [
  {
   "cell_type": "markdown",
   "metadata": {},
   "source": [
    "## 11. Простые и сложные гипотезы. Ошибки первого и второго рода. Критерий согласия Колмогорова-Смирнова. Применение критерия в пакете R. "
   ]
  },
  {
   "cell_type": "markdown",
   "metadata": {},
   "source": [
    "Генерируем тестовую выборку из равномерного распределения."
   ]
  },
  {
   "cell_type": "code",
   "execution_count": 15,
   "metadata": {},
   "outputs": [],
   "source": [
    "x<-runif(1000)"
   ]
  },
  {
   "cell_type": "markdown",
   "metadata": {},
   "source": [
    "Используем критерий `Колмогорова-Смирнова` для проверки принадлежности выборки к `равномерному` распределению.\n",
    "\n",
    "`Параметры функции:`\n",
    "* выборка\n",
    "* функция распределения (должна быть непрерывной)\n",
    "* нужно ли вычислять точное значение p-value\n",
    "\n",
    "`Возвращаемые значения:`\n",
    "* D -- мера расхождения, на которой основан критерий (максимальное расхождение между теоретической и эмпирической функциями распределения)\n",
    "* p-value -- обычно для принятия гипотезы берется один из типичных порогов (0.1, 0.05, 0.025, 0.01, 0.005). Если полученное значение больше, то принимаем гипотезу."
   ]
  },
  {
   "cell_type": "code",
   "execution_count": 17,
   "metadata": {},
   "outputs": [
    {
     "data": {
      "text/plain": [
       "\n",
       "\tOne-sample Kolmogorov-Smirnov test\n",
       "\n",
       "data:  x\n",
       "D = 0.016175, p-value = 0.9523\n",
       "alternative hypothesis: two-sided\n"
      ]
     },
     "metadata": {},
     "output_type": "display_data"
    }
   ],
   "source": [
    "ks.test(x, punif, exact=TRUE)"
   ]
  },
  {
   "cell_type": "markdown",
   "metadata": {},
   "source": [
    "`р-value` больше, чем 0.1, поэтому принимаем Н0 гипотезу. В средлем 1 раз из 10 мы должны были отвергать Н0."
   ]
  },
  {
   "cell_type": "markdown",
   "metadata": {},
   "source": [
    "### Пример.\n",
    "\n",
    "Закон распределения новой выборки - сумма 12 величин распределенных по равномерному закону распределения с параметрами (0,1).\n",
    "\n",
    "Тогда у новой случайно величины с таким законом распределения: M=1/2, D=1/12. Сумма будет от -6 до 6."
   ]
  },
  {
   "cell_type": "code",
   "execution_count": 18,
   "metadata": {},
   "outputs": [
    {
     "data": {
      "text/plain": [
       "\n",
       "\tOne-sample Kolmogorov-Smirnov test\n",
       "\n",
       "data:  x1\n",
       "D = 0.032209, p-value = 0.2454\n",
       "alternative hypothesis: two-sided\n"
      ]
     },
     "metadata": {},
     "output_type": "display_data"
    }
   ],
   "source": [
    "x1<-replicate(1000, sum(runif(12)) - 6)\n",
    "ks.test(x1, pnorm, exact=TRUE)"
   ]
  },
  {
   "cell_type": "markdown",
   "metadata": {},
   "source": [
    "`Ошибка второго рода`, т. к. приняли Н0, потому что p-value > 10%.\n",
    "Ошибка, потому что математическое ожидание и дисперсия не совпадают (значения по умолчанию в функции нормального распределения равны (0, 1))."
   ]
  },
  {
   "cell_type": "code",
   "execution_count": null,
   "metadata": {},
   "outputs": [],
   "source": []
  }
 ],
 "metadata": {
  "kernelspec": {
   "display_name": "R",
   "language": "R",
   "name": "ir"
  },
  "language_info": {
   "codemirror_mode": "r",
   "file_extension": ".r",
   "mimetype": "text/x-r-source",
   "name": "R",
   "pygments_lexer": "r",
   "version": "3.6.1"
  }
 },
 "nbformat": 4,
 "nbformat_minor": 2
}
