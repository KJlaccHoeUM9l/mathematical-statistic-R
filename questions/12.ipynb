{
 "cells": [
  {
   "cell_type": "markdown",
   "metadata": {},
   "source": [
    "## 12. Простые и сложные гипотезы. Ошибки первого и второго рода. Критерий согласия хи-квадрат Пирсона. Применение критерия в пакете R."
   ]
  },
  {
   "cell_type": "markdown",
   "metadata": {},
   "source": [
    "### Пример 1.\n",
    "\n",
    "Используем критерий на следующем примере:\n",
    "\n",
    "Кто-то проводил эксперимент, в котором подбрасывал монетку 4040 раз и фиксировал результаты. За все эти броски герб выпал 2048 раз. \n",
    "\n",
    "Суть проверки заключается в том, что если монета была симметрична, то вероятность появления герба равна вероятности появления решки (0.5 = 0.5). Таким образом тест на основании выборки может показать, была ли монета симметрична или нет.\n",
    "\n",
    "`Параметры функции:`\n",
    "* вектор эмпирических абсолютных частот\n",
    "* вектор из теоретических вероятностей\n",
    "\n",
    "`Возвращаемые значения:`\n",
    "* X-squared -- статистика критерия\n",
    "* df (degree of freedom) - количество степеней свободы распределения хи-квадрат\n",
    "* p-value"
   ]
  },
  {
   "cell_type": "code",
   "execution_count": 7,
   "metadata": {},
   "outputs": [
    {
     "data": {
      "text/plain": [
       "\n",
       "\tChi-squared test for given probabilities\n",
       "\n",
       "data:  c(2048, 4040 - 2048)\n",
       "X-squared = 0.77624, df = 1, p-value = 0.3783\n"
      ]
     },
     "metadata": {},
     "output_type": "display_data"
    }
   ],
   "source": [
    "chisq.test(c(2048, 4040-2048), p=c(0.5, 0.5))"
   ]
  },
  {
   "cell_type": "markdown",
   "metadata": {},
   "source": [
    "Значение p-value больше, чем 0.1, поэтому принимаем гипотезу Н0 о том, что вероятность появления каждой стороны была равна 1/2."
   ]
  },
  {
   "cell_type": "markdown",
   "metadata": {},
   "source": [
    "### Пример 2.\n",
    "\n",
    "Эксперимент Менделя.\n",
    "\n",
    "* круглые и желтые ~ 315 ~ 9/16\n",
    "* морщина и желтые ~ 101 ~ 3/16\n",
    "* круглые и зеленые ~ 108 ~ 3/16\n",
    "* морщина и зеленые ~ 32 ~ 1/16"
   ]
  },
  {
   "cell_type": "code",
   "execution_count": 8,
   "metadata": {},
   "outputs": [
    {
     "data": {
      "text/plain": [
       "\n",
       "\tChi-squared test for given probabilities\n",
       "\n",
       "data:  c(315, 101, 108, 32)\n",
       "X-squared = 0.47002, df = 3, p-value = 0.9254\n"
      ]
     },
     "metadata": {},
     "output_type": "display_data"
    }
   ],
   "source": [
    "chisq.test(c(315, 101, 108, 32), p = c(9/16, 3/16, 3/16, 1/16))"
   ]
  },
  {
   "cell_type": "markdown",
   "metadata": {},
   "source": [
    "Принимаем Н0 о том, что вероятности верны, p-value > 0.05"
   ]
  },
  {
   "cell_type": "markdown",
   "metadata": {},
   "source": [
    "### Пример 3.\n",
    "\n",
    "Правило 12 слагаемых."
   ]
  },
  {
   "cell_type": "code",
   "execution_count": 10,
   "metadata": {},
   "outputs": [],
   "source": [
    "x<-replicate(1000, sum(runif(12)) - 6)"
   ]
  },
  {
   "cell_type": "markdown",
   "metadata": {},
   "source": [
    "Разобьем весь диапазон значений на интревалы и посчитаем частоты для каждого из этих интервалов.\n",
    "\n",
    "Частоты попадания значений в эти интервалы - это последоватлеьные разности в массиве diff."
   ]
  },
  {
   "cell_type": "code",
   "execution_count": 14,
   "metadata": {},
   "outputs": [],
   "source": [
    "br <- c(-Inf, -2, -0.5, 0, 1, 3, Inf)"
   ]
  },
  {
   "cell_type": "code",
   "execution_count": 15,
   "metadata": {},
   "outputs": [
    {
     "name": "stderr",
     "output_type": "stream",
     "text": [
      "Warning message in chisq.test(table(cut(x, br = br)), p = diff(pnorm(br))):\n",
      "\"Chi-squared approximation may be incorrect\""
     ]
    },
    {
     "data": {
      "text/plain": [
       "\n",
       "\tChi-squared test for given probabilities\n",
       "\n",
       "data:  table(cut(x, br = br))\n",
       "X-squared = 9.057, df = 5, p-value = 0.1068\n"
      ]
     },
     "metadata": {},
     "output_type": "display_data"
    }
   ],
   "source": [
    "chisq.test(table(cut(x, br = br)), p = diff(pnorm(br)))"
   ]
  },
  {
   "cell_type": "markdown",
   "metadata": {},
   "source": [
    "Мы приняли 2 гипотезу т. к. p-value > 0.1, но это ошибочно, ошибка 2 рода."
   ]
  },
  {
   "cell_type": "code",
   "execution_count": null,
   "metadata": {},
   "outputs": [],
   "source": []
  }
 ],
 "metadata": {
  "kernelspec": {
   "display_name": "R",
   "language": "R",
   "name": "ir"
  },
  "language_info": {
   "codemirror_mode": "r",
   "file_extension": ".r",
   "mimetype": "text/x-r-source",
   "name": "R",
   "pygments_lexer": "r",
   "version": "3.6.1"
  }
 },
 "nbformat": 4,
 "nbformat_minor": 2
}
