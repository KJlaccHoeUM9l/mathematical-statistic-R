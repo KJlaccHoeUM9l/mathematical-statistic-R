{
 "cells": [
  {
   "cell_type": "markdown",
   "metadata": {},
   "source": [
    "## 8. Формула Байеса. Условное распределение. Байесовское оценивание вероятности успеха с дискретным и непрерывным априорным распределением."
   ]
  },
  {
   "cell_type": "markdown",
   "metadata": {},
   "source": [
    "Байес допустил, что выбор параметра - это тоже случайный процесс и у параметра есть свое априорное распределение:\n",
    "\n",
    "* $\\theta$ - случайная величина (оцениваемый параметр)\n",
    "* $q(u)$ - априорное распределение $\\theta$\n",
    "\n",
    "Суть метода заключается в том, чтобы установить апостериорное распределение для параметра $u$, при условии, что наблюдалась выборка $x_1, ... , x_n$: \n",
    "\n",
    "$$q(u|x_1,...,x_n)$$"
   ]
  },
  {
   "cell_type": "markdown",
   "metadata": {},
   "source": [
    "### Пример.\n",
    "\n",
    "(Достаточно ли студенты спят)\n",
    "\n",
    "Нормальный сон - 8 часов в сутки в среднем. Какая доля студентов спит хотя бы по 8 часов в день?\n",
    "\n",
    "Изначально известно, что из 27 человек 11 спят нормально. Тогда значениями случайной величины будет вектор $$(0.05, 0.15, ..., 0.95)$$, а функция правдоподобия будет выглядеть следующим образом: $$L=C^{11}_{21}p^{11}(1-p)^{27-11}$$"
   ]
  },
  {
   "cell_type": "code",
   "execution_count": 1,
   "metadata": {},
   "outputs": [],
   "source": [
    "p=seq(0.05, 0.95, by=0.1)\n",
    "prior=c(1, 5.2, 8, 7.2, 4.6, 2.1, 0.7, 0.1, 0, 0)"
   ]
  },
  {
   "cell_type": "code",
   "execution_count": 5,
   "metadata": {},
   "outputs": [],
   "source": [
    "post<-dbinom(11, 27, p)*prior\n",
    "post<-post/sum(post)"
   ]
  },
  {
   "cell_type": "code",
   "execution_count": 6,
   "metadata": {},
   "outputs": [
    {
     "data": {
      "text/html": [
       "<ol class=list-inline>\n",
       "\t<li>1.4517139471633e-08</li>\n",
       "\t<li>0.0022560219543154</li>\n",
       "\t<li>0.129134894960016</li>\n",
       "\t<li>0.476790954493248</li>\n",
       "\t<li>0.333834973061538</li>\n",
       "\t<li>0.055878201127556</li>\n",
       "\t<li>0.00209829714467699</li>\n",
       "\t<li>6.64274151028886e-06</li>\n",
       "\t<li>0</li>\n",
       "\t<li>0</li>\n",
       "</ol>\n"
      ],
      "text/latex": [
       "\\begin{enumerate*}\n",
       "\\item 1.4517139471633e-08\n",
       "\\item 0.0022560219543154\n",
       "\\item 0.129134894960016\n",
       "\\item 0.476790954493248\n",
       "\\item 0.333834973061538\n",
       "\\item 0.055878201127556\n",
       "\\item 0.00209829714467699\n",
       "\\item 6.64274151028886e-06\n",
       "\\item 0\n",
       "\\item 0\n",
       "\\end{enumerate*}\n"
      ],
      "text/markdown": [
       "1. 1.4517139471633e-08\n",
       "2. 0.0022560219543154\n",
       "3. 0.129134894960016\n",
       "4. 0.476790954493248\n",
       "5. 0.333834973061538\n",
       "6. 0.055878201127556\n",
       "7. 0.00209829714467699\n",
       "8. 6.64274151028886e-06\n",
       "9. 0\n",
       "10. 0\n",
       "\n",
       "\n"
      ],
      "text/plain": [
       " [1] 1.451714e-08 2.256022e-03 1.291349e-01 4.767910e-01 3.338350e-01\n",
       " [6] 5.587820e-02 2.098297e-03 6.642742e-06 0.000000e+00 0.000000e+00"
      ]
     },
     "metadata": {},
     "output_type": "display_data"
    }
   ],
   "source": [
    "post"
   ]
  },
  {
   "cell_type": "markdown",
   "metadata": {},
   "source": [
    "Какая в среднем доля студентов спит нормально?"
   ]
  },
  {
   "cell_type": "code",
   "execution_count": 7,
   "metadata": {},
   "outputs": [
    {
     "data": {
      "text/html": [
       "0.381826585529666"
      ],
      "text/latex": [
       "0.381826585529666"
      ],
      "text/markdown": [
       "0.381826585529666"
      ],
      "text/plain": [
       "[1] 0.3818266"
      ]
     },
     "metadata": {},
     "output_type": "display_data"
    }
   ],
   "source": [
    "sum(p*post)"
   ]
  },
  {
   "cell_type": "markdown",
   "metadata": {},
   "source": [
    "По априорным данным:"
   ]
  },
  {
   "cell_type": "code",
   "execution_count": 8,
   "metadata": {},
   "outputs": [
    {
     "data": {
      "text/html": [
       "0.407407407407407"
      ],
      "text/latex": [
       "0.407407407407407"
      ],
      "text/markdown": [
       "0.407407407407407"
      ],
      "text/plain": [
       "[1] 0.4074074"
      ]
     },
     "metadata": {},
     "output_type": "display_data"
    }
   ],
   "source": [
    "11/27"
   ]
  },
  {
   "cell_type": "code",
   "execution_count": null,
   "metadata": {},
   "outputs": [],
   "source": []
  }
 ],
 "metadata": {
  "kernelspec": {
   "display_name": "R",
   "language": "R",
   "name": "ir"
  },
  "language_info": {
   "codemirror_mode": "r",
   "file_extension": ".r",
   "mimetype": "text/x-r-source",
   "name": "R",
   "pygments_lexer": "r",
   "version": "3.6.1"
  }
 },
 "nbformat": 4,
 "nbformat_minor": 2
}
