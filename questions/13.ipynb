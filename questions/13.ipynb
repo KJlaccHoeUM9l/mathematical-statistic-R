{
 "cells": [
  {
   "cell_type": "markdown",
   "metadata": {},
   "source": [
    "## 13. Методы проверки нормальности данных при неизвестных параметрах распределения (вероятностная бумага, критерии Лильи-Фора)."
   ]
  },
  {
   "cell_type": "markdown",
   "metadata": {},
   "source": [
    "В прикладных исследованиях часто приходится проверять согласие данных с нормальным распределением. В связи с этим были разработаны специальные критерии и процедуры проверки согласия.\n",
    "\n",
    "### Критерий Лильи-Фора.\n",
    "\n",
    "При проверки согласия по `критерию Колмогорова–Смирнова` тот факт, что параметры распределения были найдены по выборке, меняет распределение статистики $D_n$ (см. или слушай лекцию про это). \n",
    "\n",
    "Поэтому в этом случае используется `модифицированный критерий`, принадлежащий `Лилье-Фору`. Функция `lillie.test()` принимает единственный аргумент - выборку значений случайной величины."
   ]
  },
  {
   "cell_type": "code",
   "execution_count": 5,
   "metadata": {},
   "outputs": [],
   "source": [
    "library(nortest)"
   ]
  },
  {
   "cell_type": "code",
   "execution_count": 6,
   "metadata": {},
   "outputs": [
    {
     "data": {
      "text/plain": [
       "\n",
       "\tLilliefors (Kolmogorov-Smirnov) normality test\n",
       "\n",
       "data:  rnorm(100, mean = 2, sd = 0.3)\n",
       "D = 0.070193, p-value = 0.262\n"
      ]
     },
     "metadata": {},
     "output_type": "display_data"
    }
   ],
   "source": [
    "lillie.test(rnorm(100, mean=2, sd=0.3))"
   ]
  },
  {
   "cell_type": "markdown",
   "metadata": {},
   "source": [
    "p-value высокое и это очевидно, т.к. выборка из нормального закона распределения. \n",
    "\n",
    "Проверим работу этого критерия для выборки из другого распределения, например, из равномерного."
   ]
  },
  {
   "cell_type": "code",
   "execution_count": 7,
   "metadata": {},
   "outputs": [
    {
     "data": {
      "text/plain": [
       "\n",
       "\tLilliefors (Kolmogorov-Smirnov) normality test\n",
       "\n",
       "data:  runif(100, min = 2, max = 4)\n",
       "D = 0.10329, p-value = 0.01046\n"
      ]
     },
     "metadata": {},
     "output_type": "display_data"
    }
   ],
   "source": [
    "lillie.test(runif(100, min = 2, max = 4))"
   ]
  },
  {
   "cell_type": "markdown",
   "metadata": {},
   "source": [
    "Данные не обладают нормальностью."
   ]
  },
  {
   "cell_type": "markdown",
   "metadata": {},
   "source": [
    "### Вероятностная бумага."
   ]
  },
  {
   "cell_type": "markdown",
   "metadata": {},
   "source": [
    "Популярной `визуально–графической` техникой проверки нормальности данных является `нормальная вероятностная бумага`. Было замечено, что семейство нормальных распределени инвариантно относительно сдвига и изменения масштаба.\n",
    "\n",
    "$$\\alpha = F(\\gamma_\\alpha) = F_0(\\frac{\\gamma_\\alpha-a}{b}) = F_0(\\gamma^o_\\alpha)$$\n",
    "\n",
    "откуда $\\gamma_\\alpha = a + b\\gamma^o_\\alpha$\n",
    "\n",
    "Если теперь на декартову координатную плоскость нанести точки с координатами $(\\gamma^o_\\alpha, \\gamma_\\alpha)$, то при справедливой нулевой гипотезе они должны выстроиться около некоторой прямой.\n",
    "\n",
    "Для нормального распределения в R вероятностная бумага строится функцией `qqnorm`. Функция `qqline` добавляет прямую линию, проходящую через первый и третий квартили. Аргументом обеих функций является выборка значений случайной величины.\n"
   ]
  },
  {
   "cell_type": "code",
   "execution_count": 8,
   "metadata": {},
   "outputs": [],
   "source": [
    "x<-rnorm(100, mean=2, sd=0.3)"
   ]
  },
  {
   "cell_type": "code",
   "execution_count": 10,
   "metadata": {},
   "outputs": [
    {
     "data": {
      "image/png": "[encoded data removed]",
      "text/plain": [
       "Plot with title \"Normal Q-Q Plot\""
      ]
     },
     "metadata": {},
     "output_type": "display_data"
    }
   ],
   "source": [
    "qqnorm(x)\n",
    "qqline(x)"
   ]
  },
  {
   "cell_type": "code",
   "execution_count": null,
   "metadata": {},
   "outputs": [],
   "source": []
  }
 ],
 "metadata": {
  "kernelspec": {
   "display_name": "R",
   "language": "R",
   "name": "ir"
  },
  "language_info": {
   "codemirror_mode": "r",
   "file_extension": ".r",
   "mimetype": "text/x-r-source",
   "name": "R",
   "pygments_lexer": "r",
   "version": "3.6.1"
  }
 },
 "nbformat": 4,
 "nbformat_minor": 2
}
