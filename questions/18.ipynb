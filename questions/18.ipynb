{
 "cells": [
  {
   "cell_type": "markdown",
   "metadata": {},
   "source": [
    "## 18. \n",
    "* ## Непараметрические критерии независимости. \n",
    "* ## Ранговый критерий независимости Спирмена. \n",
    "* ## Работа с критерием в пакете R."
   ]
  },
  {
   "cell_type": "markdown",
   "metadata": {},
   "source": [
    "1. ### Критерий Пирсона\n",
    "\n",
    "При условии, что случайные велиины `X, Y` принадлежат нормальному распределению, то\n",
    "\n",
    "они независимы тогда и только тогда, когда не коррелируют, то есть\n",
    "`corr(X, Y) = 0`"
   ]
  },
  {
   "cell_type": "code",
   "execution_count": 3,
   "metadata": {},
   "outputs": [
    {
     "data": {
      "text/plain": [
       "\n",
       "\tPearson's product-moment correlation\n",
       "\n",
       "data:  X and Y\n",
       "t = 1.4866, df = 98, p-value = 0.1403\n",
       "alternative hypothesis: true correlation is not equal to 0\n",
       "95 percent confidence interval:\n",
       " -0.0493547  0.3351454\n",
       "sample estimates:\n",
       "     cor \n",
       "0.148503 \n"
      ]
     },
     "metadata": {},
     "output_type": "display_data"
    }
   ],
   "source": [
    "X <- rnorm(100)\n",
    "Y <- rnorm(100)\n",
    "\n",
    "cor.test(X, Y, method=\"pearson\")"
   ]
  },
  {
   "cell_type": "markdown",
   "metadata": {},
   "source": [
    "2. ### Ранговая корреляция Спирмена\n",
    "\n",
    "$x_i  \\longrightarrow r_l=rank(x_i)$ среди X\n",
    "\n",
    "$y_i  \\longrightarrow s_l=rank(y_i)$ среди Y\n",
    "\n",
    "Ранги X и Y - это две случайные перестановки первых n чисел\n",
    "\n",
    "И эти две перестановки должны быть независимы."
   ]
  },
  {
   "cell_type": "code",
   "execution_count": 8,
   "metadata": {},
   "outputs": [
    {
     "data": {
      "text/plain": [
       "\n",
       "\tSpearman's rank correlation rho\n",
       "\n",
       "data:  X and Y\n",
       "S = 2, p-value = 0.08333\n",
       "alternative hypothesis: true rho is not equal to 0\n",
       "sample estimates:\n",
       "rho \n",
       "0.9 \n"
      ]
     },
     "metadata": {},
     "output_type": "display_data"
    }
   ],
   "source": [
    "X <- c(1,2,4,6,3)\n",
    "Y <- c(1,3,4,6,5)\n",
    "\n",
    "cor.test(X, Y, method=\"spearman\")"
   ]
  }
 ],
 "metadata": {
  "kernelspec": {
   "display_name": "R",
   "language": "R",
   "name": "ir"
  },
  "language_info": {
   "codemirror_mode": "r",
   "file_extension": ".r",
   "mimetype": "text/x-r-source",
   "name": "R",
   "pygments_lexer": "r",
   "version": "3.4.4"
  }
 },
 "nbformat": 4,
 "nbformat_minor": 2
}
