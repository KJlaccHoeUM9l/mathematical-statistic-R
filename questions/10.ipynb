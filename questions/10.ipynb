{
 "cells": [
  {
   "cell_type": "markdown",
   "metadata": {},
   "source": [
    "## 10. Односторонние и двухсторонние доверительные интервалы для случайной величины. Построение доверительных интервалов с помощью квантилей. "
   ]
  },
  {
   "cell_type": "markdown",
   "metadata": {},
   "source": [
    "Термин `доверительный интервал` используется при интервальной оценке статистических параметров. Данная оценка прдепочтительнее, чем точечная оценка, при небольших объемах выборки.\n",
    "\n",
    "Доверительным называют интервал, который покрывает неизвестный параметр с заданной надежностью.\n",
    "\n",
    "Также доверительный интервал можно использовать для `случайной величины`:\n",
    "\n",
    "$X$ - случайная величина с функцией распределения $F(u)$\n",
    "\n",
    "Нужно найти $(c_1,c_2)$ такие, что $P(c_1<X<c_2)=\\gamma$\n",
    "\n",
    "Нужно найти 2 неизвестных, но в чистом виде данных для этого мало. Поэтому иногда используют дополнительные условия, например, их суммарную площадь."
   ]
  },
  {
   "cell_type": "markdown",
   "metadata": {},
   "source": [
    "Напишем функцию для рассчета доверительного интервала. Для этого зафиксируем оставшуюся вероятность на доверительный интервал `g` - правая граница. И после этого перебором на сетке будем искать левую границу. "
   ]
  },
  {
   "cell_type": "code",
   "execution_count": 4,
   "metadata": {},
   "outputs": [],
   "source": [
    "f.ci<-function(a, g=0.05) {\n",
    "  qnorm(1-(g-a))-qnorm(a)\n",
    "}"
   ]
  },
  {
   "cell_type": "code",
   "execution_count": 5,
   "metadata": {},
   "outputs": [
    {
     "data": {
      "image/png": "[encoded data removed]",
      "text/plain": [
       "plot without title"
      ]
     },
     "metadata": {},
     "output_type": "display_data"
    }
   ],
   "source": [
    "curve(f.ci(x), 0, 0.05)"
   ]
  },
  {
   "cell_type": "markdown",
   "metadata": {},
   "source": [
    "`Min` достигатеся в точке $\\frac{0.05}{2}$, т.к. функция симметричная"
   ]
  },
  {
   "cell_type": "code",
   "execution_count": null,
   "metadata": {},
   "outputs": [],
   "source": []
  }
 ],
 "metadata": {
  "kernelspec": {
   "display_name": "R",
   "language": "R",
   "name": "ir"
  },
  "language_info": {
   "codemirror_mode": "r",
   "file_extension": ".r",
   "mimetype": "text/x-r-source",
   "name": "R",
   "pygments_lexer": "r",
   "version": "3.6.1"
  }
 },
 "nbformat": 4,
 "nbformat_minor": 2
}
