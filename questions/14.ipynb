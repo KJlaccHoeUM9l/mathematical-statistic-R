{
 "cells": [
  {
   "cell_type": "markdown",
   "metadata": {},
   "source": [
    "## 14. Методы проверки нормальности данных при неизвестных параметрах распределения (критерий хи-квадрат Пирсона, критерий Шапиро-Уилкса)."
   ]
  },
  {
   "cell_type": "markdown",
   "metadata": {},
   "source": [
    "### Критерий хи-квадрат Пирсона.\n",
    "\n",
    "В R критерий $𝜒^2$ реализован функцией chisq.test. Обязательный аргумент x соответствует вектору абсолютных наблюдаемых частот (а не исходной выборке!). Поэтому ее нужно разделять на интервалы и считать частоты.\n",
    "\n",
    "Для сокращения число команд при применении `критерия согласия хи-квадрат Пирсона` создана функция `pearson.test`. Она выбирает интервалы, оценивает параметры и вычисляет теоретические вероятности попадания в интервалы автоматически."
   ]
  },
  {
   "cell_type": "code",
   "execution_count": 4,
   "metadata": {},
   "outputs": [],
   "source": [
    "library(nortest)"
   ]
  },
  {
   "cell_type": "code",
   "execution_count": 5,
   "metadata": {},
   "outputs": [
    {
     "data": {
      "text/plain": [
       "\n",
       "\tPearson chi-square normality test\n",
       "\n",
       "data:  rnorm(100, mean = 2, sd = 0.3)\n",
       "P = 10.76, p-value = 0.3765\n"
      ]
     },
     "metadata": {},
     "output_type": "display_data"
    }
   ],
   "source": [
    "pearson.test(rnorm(100, mean=2, sd=0.3))"
   ]
  },
  {
   "cell_type": "markdown",
   "metadata": {},
   "source": [
    "### Критерий Шапиро-Уилкса.\n",
    "\n",
    "Этот критерий основывается на распределении порядковых статистик $X_{(1)},X_{(2)},...,X_{(n)}$ из нормальной повторной выборки\n",
    "объема $n$.\n",
    "\n",
    "Критерий относится к классу непараметрических критериев, поскольку не основывается на конкретных значениях параметров нормального распределения (на их выборочных оценках).\n",
    "\n",
    "Критерий реализован в виде функции `shapiro.test`. Единственный аргумент — выборка значений."
   ]
  },
  {
   "cell_type": "code",
   "execution_count": 6,
   "metadata": {},
   "outputs": [
    {
     "data": {
      "text/plain": [
       "\n",
       "\tShapiro-Wilk normality test\n",
       "\n",
       "data:  rnorm(100, mean = 2, sd = 0.3)\n",
       "W = 0.98345, p-value = 0.2442\n"
      ]
     },
     "metadata": {},
     "output_type": "display_data"
    }
   ],
   "source": [
    "shapiro.test(rnorm(100, mean=2, sd=0.3))"
   ]
  },
  {
   "cell_type": "code",
   "execution_count": null,
   "metadata": {},
   "outputs": [],
   "source": []
  }
 ],
 "metadata": {
  "kernelspec": {
   "display_name": "R",
   "language": "R",
   "name": "ir"
  },
  "language_info": {
   "codemirror_mode": "r",
   "file_extension": ".r",
   "mimetype": "text/x-r-source",
   "name": "R",
   "pygments_lexer": "r",
   "version": "3.6.1"
  }
 },
 "nbformat": 4,
 "nbformat_minor": 2
}
