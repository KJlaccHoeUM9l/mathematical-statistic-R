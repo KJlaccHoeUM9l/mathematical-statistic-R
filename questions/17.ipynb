{
 "cells": [
  {
   "cell_type": "markdown",
   "metadata": {},
   "source": [
    "## 17. Таблицы сопряженности признаков. Критерий независимости хи-квадрат для проверки независимости двух переменных. Оценки максимального правдоподобия при нулевой гипотезе."
   ]
  },
  {
   "cell_type": "markdown",
   "metadata": {},
   "source": [
    "В данной задаче наблюдаются n объектов.\n",
    "\n",
    "У каждого объекта фиксируются значения `двух` признаков. Каждый из этих признаков имеет конечное число значений `(k,l)`. \n",
    "\n",
    "Результаты заносятся в `таблицу абсолютных частот` размера `(k строк,l столбцов)`. \n",
    "* $A_1, ... , A_k$ - возможные значения `первого` признака\n",
    "* $B_1, ... , B_l$ - возможные значения `второго` признака\n",
    "\n",
    "Необходимо проверить, есть ли статистическая зависимость между признаками.\n",
    "\n",
    "Для этого вводится гипотеза $H_0$ о независимости признаков:\n",
    "* $H_0:$ для любых $i,j: p_{ij}=p_i q_j$\n",
    "* $H_1:$ существует пара $i,j: p_{ij} \\ne p_iq_j$ - сложная гипотеза, т.к. может быть несколько таких распределений\n",
    "\n",
    "Разделяют три типа постановки данной задачи:\n",
    "* `первый способ` - нет ограничений на суммарные частоты по столбцам и строкам, т.е. любой объект может попасть в любую клетку таблицы\n",
    "* `второй способ` - фиксируем суммарные частоты по строкам\n",
    "* `третий способ` - фиксируем суммарные частоты по строкам и столбцам\n",
    "\n",
    "Для решения данных задач используют оценку максимального правдоподобия.\n",
    "\n",
    "Если оценить вероятности $p_i,q_j$ с помощью оценки максимального правдоподобия и использовать эти оценки в сатистике `R` Пирсона, то при справедливой $H_0$ статистика будет сходиться к распределению $\\chi^2_{(k-1)(l-1)}$\n",
    "\n",
    "Это спрведливо для `первого` и `вторго` способов. Для третьего способа статистика будет иметь распределние `Фишера`."
   ]
  },
  {
   "cell_type": "markdown",
   "metadata": {},
   "source": [
    "### Пример 1.\n",
    "\n",
    "(На первый способ)\n",
    "\n",
    "Необходимо проверить зависимость между доходом и количеством детей.\n",
    "\n",
    "Данные преведены в таблице:\n",
    "* Строки - количество детей $(0, 1, 2, 3, \\ge4)$\n",
    "* Столбцы - доход $(0-1, 1-2, 2-3, \\ge3)$"
   ]
  },
  {
   "cell_type": "code",
   "execution_count": 1,
   "metadata": {},
   "outputs": [],
   "source": [
    "x = matrix(c(2161, 3577, 2184, 1636,\n",
    "             2755, 5081, 2222, 1052,\n",
    "             936,  1753,  640,  306,\n",
    "             225,   419,   96,   38,\n",
    "             39,     98,   31,   14), \n",
    "           ncol = 4, \n",
    "           byrow = TRUE)"
   ]
  },
  {
   "cell_type": "code",
   "execution_count": 17,
   "metadata": {},
   "outputs": [
    {
     "data": {
      "text/plain": [
       "\n",
       "\tPearson's Chi-squared test\n",
       "\n",
       "data:  x\n",
       "X-squared = 568.57, df = 12, p-value < 2.2e-16\n"
      ]
     },
     "metadata": {},
     "output_type": "display_data"
    }
   ],
   "source": [
    "chisq.test(x)"
   ]
  },
  {
   "cell_type": "markdown",
   "metadata": {},
   "source": [
    "Отвергаем гипотезу, т.к. p-value слишком маленькое. Значит признаки не независимы."
   ]
  },
  {
   "cell_type": "markdown",
   "metadata": {},
   "source": [
    "### Пример 2.\n",
    "\n",
    "(На второй способ)\n",
    "\n",
    "Трем группам:\n",
    "* только мужчины\n",
    "* только женщины\n",
    "* мужчины и женщины\n",
    "\n",
    "давали лекарство и смотрели за их здоровьем.\n",
    "\n",
    "    Строки - принимал / не принимал лекарство\n",
    "    Столбцы - выздоровел / не выздоровел"
   ]
  },
  {
   "cell_type": "code",
   "execution_count": 18,
   "metadata": {},
   "outputs": [],
   "source": [
    "men_group = matrix(c(700, 800,\n",
    "                     80, 130), \n",
    "                   ncol = 2, \n",
    "                   byrow = TRUE)"
   ]
  },
  {
   "cell_type": "code",
   "execution_count": 19,
   "metadata": {},
   "outputs": [
    {
     "data": {
      "text/plain": [
       "\n",
       "\tPearson's Chi-squared test with Yates' continuity correction\n",
       "\n",
       "data:  men_group\n",
       "X-squared = 5.1155, df = 1, p-value = 0.02371\n"
      ]
     },
     "metadata": {},
     "output_type": "display_data"
    }
   ],
   "source": [
    "chisq.test(men_group)"
   ]
  },
  {
   "cell_type": "code",
   "execution_count": 20,
   "metadata": {},
   "outputs": [],
   "source": [
    "women_group = matrix(c(150, 70,\n",
    "                       400, 280), \n",
    "            ncol = 2, \n",
    "            byrow = TRUE)"
   ]
  },
  {
   "cell_type": "code",
   "execution_count": 21,
   "metadata": {},
   "outputs": [
    {
     "data": {
      "text/plain": [
       "\n",
       "\tPearson's Chi-squared test with Yates' continuity correction\n",
       "\n",
       "data:  women_group\n",
       "X-squared = 5.738, df = 1, p-value = 0.0166\n"
      ]
     },
     "metadata": {},
     "output_type": "display_data"
    }
   ],
   "source": [
    "chisq.test(women_group)"
   ]
  },
  {
   "cell_type": "code",
   "execution_count": 22,
   "metadata": {},
   "outputs": [],
   "source": [
    "together = matrix(c(850, 870,\n",
    "                    480, 410), \n",
    "                  ncol = 2, \n",
    "                  byrow = TRUE)"
   ]
  },
  {
   "cell_type": "code",
   "execution_count": 23,
   "metadata": {},
   "outputs": [
    {
     "data": {
      "text/plain": [
       "\n",
       "\tPearson's Chi-squared test with Yates' continuity correction\n",
       "\n",
       "data:  together\n",
       "X-squared = 4.6032, df = 1, p-value = 0.03191\n"
      ]
     },
     "metadata": {},
     "output_type": "display_data"
    }
   ],
   "source": [
    "chisq.test(together)"
   ]
  },
  {
   "cell_type": "markdown",
   "metadata": {},
   "source": [
    "Видно, что данные из группы мужчин более независимы. Возможно в совместной выборке они оттягивают их в сторону независимости признаков."
   ]
  },
  {
   "cell_type": "markdown",
   "metadata": {},
   "source": [
    "### Пример 3.\n",
    "\n",
    "(На третий способ)"
   ]
  },
  {
   "cell_type": "code",
   "execution_count": 12,
   "metadata": {},
   "outputs": [
    {
     "data": {
      "text/plain": [
       "\n",
       "\tFisher's Exact Test for Count Data\n",
       "\n",
       "data:  matrix(c(3, 1, 1, 3), nrow = 2)\n",
       "p-value = 0.4857\n",
       "alternative hypothesis: true odds ratio is not equal to 1\n",
       "95 percent confidence interval:\n",
       "   0.2117329 621.9337505\n",
       "sample estimates:\n",
       "odds ratio \n",
       "  6.408309 \n"
      ]
     },
     "metadata": {},
     "output_type": "display_data"
    }
   ],
   "source": [
    "fisher.test(matrix(c(3,1,1,3), nrow = 2))"
   ]
  },
  {
   "cell_type": "code",
   "execution_count": null,
   "metadata": {},
   "outputs": [],
   "source": []
  }
 ],
 "metadata": {
  "kernelspec": {
   "display_name": "R",
   "language": "R",
   "name": "ir"
  },
  "language_info": {
   "codemirror_mode": "r",
   "file_extension": ".r",
   "mimetype": "text/x-r-source",
   "name": "R",
   "pygments_lexer": "r",
   "version": "3.6.1"
  }
 },
 "nbformat": 4,
 "nbformat_minor": 2
}
