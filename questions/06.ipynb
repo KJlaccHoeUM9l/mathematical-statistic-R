{
 "cells": [
  {
   "cell_type": "markdown",
   "metadata": {},
   "source": [
    "## 6. Точечная оценка парметра. Метод максимального правдоподобия. Оценки максимального правдоподобия для нормального и экспоненциального распределений."
   ]
  },
  {
   "cell_type": "markdown",
   "metadata": {},
   "source": [
    "Необходимо подключить библиотеку, которая содержит функцию для ОМП."
   ]
  },
  {
   "cell_type": "code",
   "execution_count": 4,
   "metadata": {},
   "outputs": [],
   "source": [
    "library(MASS)"
   ]
  },
  {
   "cell_type": "markdown",
   "metadata": {},
   "source": [
    "### Нормальное распределение.\n",
    "\n",
    "Генерируем выборку"
   ]
  },
  {
   "cell_type": "code",
   "execution_count": 1,
   "metadata": {},
   "outputs": [],
   "source": [
    "x <- rnorm(100, mean=5, sd=5)"
   ]
  },
  {
   "cell_type": "code",
   "execution_count": 5,
   "metadata": {},
   "outputs": [
    {
     "data": {
      "text/plain": [
       "     mean         sd    \n",
       "  5.3543182   4.6122184 \n",
       " (0.4612218) (0.3261331)"
      ]
     },
     "metadata": {},
     "output_type": "display_data"
    }
   ],
   "source": [
    "fitdistr(x, 'normal')"
   ]
  },
  {
   "cell_type": "markdown",
   "metadata": {},
   "source": [
    "Также можно воспользоваться процедурой численной оптимизации. Для этого надо указать функцию плотности вероятности и список начальных приближений параметров."
   ]
  },
  {
   "cell_type": "code",
   "execution_count": 15,
   "metadata": {},
   "outputs": [
    {
     "data": {
      "text/plain": [
       "     mean         sd    \n",
       "  5.3543161   4.6121603 \n",
       " (0.4612160) (0.3261227)"
      ]
     },
     "metadata": {},
     "output_type": "display_data"
    }
   ],
   "source": [
    "fitdistr(x, dnorm, list(mean=3, sd=3))"
   ]
  },
  {
   "cell_type": "markdown",
   "metadata": {},
   "source": [
    "Если заранее известно точное значение для среднеквадратического отклонения, и необходимо найти оценку для математического ожидания, в функции `fitdistr()` можно добавить параметры, которые не нужно менять."
   ]
  },
  {
   "cell_type": "code",
   "execution_count": 14,
   "metadata": {},
   "outputs": [
    {
     "name": "stderr",
     "output_type": "stream",
     "text": [
      "Warning message in stats::optim(x = c(0.953979425236761, 5.20012967325779, -0.882274643399182, :\n",
      "\"one-dimensional optimization by Nelder-Mead is unreliable:\n",
      "use \"Brent\" or optimize() directly\""
     ]
    },
    {
     "data": {
      "text/plain": [
       "     mean  \n",
       "  5.355469 \n",
       " (0.500000)"
      ]
     },
     "metadata": {},
     "output_type": "display_data"
    }
   ],
   "source": [
    "fitdistr(x, dnorm, list(mean=3), sd=5)"
   ]
  },
  {
   "cell_type": "markdown",
   "metadata": {},
   "source": [
    "### Экспоненциальное распределение."
   ]
  },
  {
   "cell_type": "code",
   "execution_count": 29,
   "metadata": {},
   "outputs": [],
   "source": [
    "y = rexp(100, rate=3)"
   ]
  },
  {
   "cell_type": "code",
   "execution_count": 30,
   "metadata": {},
   "outputs": [
    {
     "data": {
      "text/plain": [
       "     rate   \n",
       "  2.9389854 \n",
       " (0.2938985)"
      ]
     },
     "metadata": {},
     "output_type": "display_data"
    }
   ],
   "source": [
    "fitdistr(y, 'exponential')"
   ]
  },
  {
   "cell_type": "code",
   "execution_count": null,
   "metadata": {},
   "outputs": [],
   "source": []
  }
 ],
 "metadata": {
  "kernelspec": {
   "display_name": "R",
   "language": "R",
   "name": "ir"
  },
  "language_info": {
   "codemirror_mode": "r",
   "file_extension": ".r",
   "mimetype": "text/x-r-source",
   "name": "R",
   "pygments_lexer": "r",
   "version": "3.6.1"
  }
 },
 "nbformat": 4,
 "nbformat_minor": 2
}
