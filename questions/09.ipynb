{
 "cells": [
  {
   "cell_type": "markdown",
   "metadata": {},
   "source": [
    "## 9. Формула Байеса для плотностей. Условное распределение. Байесовское оценивание дисперсии нормального закона."
   ]
  },
  {
   "cell_type": "markdown",
   "metadata": {},
   "source": [
    "### Пример.\n",
    "\n",
    "(см. лекцию 23.10.2019)\n",
    "\n",
    "Разность между прогнозом матча и реальным исходом игры (среднее равно 0)."
   ]
  },
  {
   "cell_type": "code",
   "execution_count": 1,
   "metadata": {},
   "outputs": [],
   "source": [
    "library(LearnBayes)"
   ]
  },
  {
   "cell_type": "code",
   "execution_count": 2,
   "metadata": {},
   "outputs": [
    {
     "data": {
      "text/html": [
       "<table>\n",
       "<caption>A data.frame: 672 × 8</caption>\n",
       "<thead>\n",
       "\t<tr><th scope=col>year</th><th scope=col>home</th><th scope=col>favorite</th><th scope=col>underdog</th><th scope=col>spread</th><th scope=col>favorite.name</th><th scope=col>underdog.name</th><th scope=col>week</th></tr>\n",
       "\t<tr><th scope=col>&lt;int&gt;</th><th scope=col>&lt;int&gt;</th><th scope=col>&lt;int&gt;</th><th scope=col>&lt;int&gt;</th><th scope=col>&lt;dbl&gt;</th><th scope=col>&lt;fct&gt;</th><th scope=col>&lt;fct&gt;</th><th scope=col>&lt;int&gt;</th></tr>\n",
       "</thead>\n",
       "<tbody>\n",
       "\t<tr><td>1981</td><td>1</td><td>21</td><td>13</td><td> 2.0</td><td>TB </td><td>MIN</td><td>1</td></tr>\n",
       "\t<tr><td>1981</td><td>1</td><td>27</td><td> 0</td><td> 9.5</td><td>ATL</td><td>NO </td><td>1</td></tr>\n",
       "\t<tr><td>1981</td><td>1</td><td>31</td><td> 0</td><td> 4.0</td><td>BUF</td><td>NYJ</td><td>1</td></tr>\n",
       "\t<tr><td>1981</td><td>1</td><td> 9</td><td>16</td><td> 4.0</td><td>CHI</td><td>GB </td><td>1</td></tr>\n",
       "\t<tr><td>1981</td><td>1</td><td>27</td><td>21</td><td> 4.5</td><td>CIN</td><td>SEA</td><td>1</td></tr>\n",
       "\t<tr><td>1981</td><td>0</td><td>26</td><td>10</td><td> 2.0</td><td>DAL</td><td>WAS</td><td>1</td></tr>\n",
       "\t<tr><td>1981</td><td>1</td><td>24</td><td>17</td><td> 5.0</td><td>DET</td><td>SF </td><td>1</td></tr>\n",
       "\t<tr><td>1981</td><td>1</td><td>20</td><td>27</td><td> 6.0</td><td>LAN</td><td>HOU</td><td>1</td></tr>\n",
       "\t<tr><td>1981</td><td>0</td><td>20</td><td> 7</td><td> 1.0</td><td>MIA</td><td>PHX</td><td>1</td></tr>\n",
       "\t<tr><td>1981</td><td>1</td><td>28</td><td>29</td><td> 6.5</td><td>NE </td><td>IND</td><td>1</td></tr>\n",
       "\t<tr><td>1981</td><td>0</td><td> 7</td><td> 9</td><td> 2.5</td><td>LAA</td><td>DEN</td><td>1</td></tr>\n",
       "\t<tr><td>1981</td><td>0</td><td>24</td><td>10</td><td> 6.0</td><td>PHA</td><td>NYG</td><td>1</td></tr>\n",
       "\t<tr><td>1981</td><td>1</td><td>33</td><td>37</td><td> 9.5</td><td>PIT</td><td>KC </td><td>1</td></tr>\n",
       "\t<tr><td>1981</td><td>1</td><td>14</td><td>44</td><td> 2.0</td><td>CLE</td><td>SD </td><td>1</td></tr>\n",
       "\t<tr><td>1981</td><td>1</td><td>30</td><td>10</td><td> 2.0</td><td>MIA</td><td>PIT</td><td>2</td></tr>\n",
       "\t<tr><td>1981</td><td>0</td><td>31</td><td>17</td><td> 4.5</td><td>ATL</td><td>GB </td><td>2</td></tr>\n",
       "\t<tr><td>1981</td><td>0</td><td>35</td><td> 3</td><td> 2.5</td><td>BUF</td><td>IND</td><td>2</td></tr>\n",
       "\t<tr><td>1981</td><td>1</td><td> 3</td><td> 9</td><td> 3.5</td><td>CLE</td><td>HOU</td><td>2</td></tr>\n",
       "\t<tr><td>1981</td><td>1</td><td>30</td><td>17</td><td>10.5</td><td>DAL</td><td>PHX</td><td>2</td></tr>\n",
       "\t<tr><td>1981</td><td>0</td><td>10</td><td>13</td><td> 1.0</td><td>DEN</td><td>SEA</td><td>2</td></tr>\n",
       "\t<tr><td>1981</td><td>1</td><td>19</td><td>10</td><td> 3.5</td><td>KC </td><td>TB </td><td>2</td></tr>\n",
       "\t<tr><td>1981</td><td>0</td><td>17</td><td>23</td><td> 7.0</td><td>LAN</td><td>NO </td><td>2</td></tr>\n",
       "\t<tr><td>1981</td><td>1</td><td>30</td><td>31</td><td> 4.0</td><td>NYJ</td><td>CIN</td><td>2</td></tr>\n",
       "\t<tr><td>1981</td><td>1</td><td>13</td><td> 3</td><td> 3.5</td><td>PHA</td><td>NE </td><td>2</td></tr>\n",
       "\t<tr><td>1981</td><td>1</td><td>28</td><td>23</td><td> 7.0</td><td>SD </td><td>DET</td><td>2</td></tr>\n",
       "\t<tr><td>1981</td><td>1</td><td>28</td><td>17</td><td> 1.0</td><td>SF </td><td>CHI</td><td>2</td></tr>\n",
       "\t<tr><td>1981</td><td>1</td><td> 7</td><td>17</td><td> 6.5</td><td>WAS</td><td>NYG</td><td>2</td></tr>\n",
       "\t<tr><td>1981</td><td>0</td><td>36</td><td>10</td><td> 2.5</td><td>LAA</td><td>MIN</td><td>2</td></tr>\n",
       "\t<tr><td>1981</td><td>1</td><td>14</td><td>20</td><td> 4.0</td><td>BUF</td><td>PHA</td><td>3</td></tr>\n",
       "\t<tr><td>1981</td><td>1</td><td>34</td><td>17</td><td> 9.5</td><td>ATL</td><td>SF </td><td>3</td></tr>\n",
       "\t<tr><td>...</td><td>...</td><td>...</td><td>...</td><td>...</td><td>...</td><td>...</td><td>...</td></tr>\n",
       "\t<tr><td>1984</td><td>1</td><td>34</td><td>21</td><td> 7.0</td><td>LAN</td><td>NO </td><td>14</td></tr>\n",
       "\t<tr><td>1984</td><td>1</td><td>20</td><td> 7</td><td> 1.0</td><td>SD </td><td>CHI</td><td>14</td></tr>\n",
       "\t<tr><td>1984</td><td>1</td><td>21</td><td>17</td><td> 7.0</td><td>NYJ</td><td>BUF</td><td>15</td></tr>\n",
       "\t<tr><td>1984</td><td>1</td><td>51</td><td> 7</td><td>16.5</td><td>SF </td><td>MIN</td><td>15</td></tr>\n",
       "\t<tr><td>1984</td><td>1</td><td>23</td><td>20</td><td> 7.0</td><td>PIT</td><td>CLE</td><td>15</td></tr>\n",
       "\t<tr><td>1984</td><td>1</td><td>23</td><td> 6</td><td> 7.5</td><td>TB </td><td>ATL</td><td>15</td></tr>\n",
       "\t<tr><td>1984</td><td>0</td><td>35</td><td>17</td><td>14.0</td><td>MIA</td><td>IND</td><td>15</td></tr>\n",
       "\t<tr><td>1984</td><td>0</td><td>24</td><td>21</td><td> 2.5</td><td>CIN</td><td>NO </td><td>15</td></tr>\n",
       "\t<tr><td>1984</td><td>1</td><td>31</td><td>21</td><td> 4.0</td><td>PHX</td><td>NYG</td><td>15</td></tr>\n",
       "\t<tr><td>1984</td><td>0</td><td>20</td><td>14</td><td> 0.0</td><td>GB </td><td>CHI</td><td>15</td></tr>\n",
       "\t<tr><td>1984</td><td>0</td><td> 7</td><td>34</td><td> 4.5</td><td>SEA</td><td>KC </td><td>15</td></tr>\n",
       "\t<tr><td>1984</td><td>0</td><td>17</td><td>27</td><td> 3.0</td><td>NE </td><td>PHA</td><td>15</td></tr>\n",
       "\t<tr><td>1984</td><td>1</td><td>27</td><td>16</td><td>11.5</td><td>LAN</td><td>HOU</td><td>15</td></tr>\n",
       "\t<tr><td>1984</td><td>0</td><td>30</td><td>28</td><td> 1.0</td><td>WAS</td><td>DAL</td><td>15</td></tr>\n",
       "\t<tr><td>1984</td><td>1</td><td>16</td><td>13</td><td> 7.0</td><td>DEN</td><td>SD </td><td>15</td></tr>\n",
       "\t<tr><td>1984</td><td>0</td><td>24</td><td> 3</td><td> 7.0</td><td>LAA</td><td>DET</td><td>15</td></tr>\n",
       "\t<tr><td>1984</td><td>1</td><td>19</td><td>16</td><td> 6.5</td><td>SF </td><td>LAN</td><td>16</td></tr>\n",
       "\t<tr><td>1984</td><td>1</td><td> 3</td><td>10</td><td> 9.0</td><td>NYG</td><td>NO </td><td>16</td></tr>\n",
       "\t<tr><td>1984</td><td>1</td><td>14</td><td>31</td><td> 4.0</td><td>SEA</td><td>DEN</td><td>16</td></tr>\n",
       "\t<tr><td>1984</td><td>1</td><td>41</td><td>21</td><td> 4.0</td><td>TB </td><td>NYJ</td><td>16</td></tr>\n",
       "\t<tr><td>1984</td><td>1</td><td>16</td><td>10</td><td>10.0</td><td>NE </td><td>IND</td><td>16</td></tr>\n",
       "\t<tr><td>1984</td><td>1</td><td>20</td><td>27</td><td> 2.0</td><td>HOU</td><td>CLE</td><td>16</td></tr>\n",
       "\t<tr><td>1984</td><td>1</td><td>29</td><td>27</td><td> 6.5</td><td>WAS</td><td>PHX</td><td>16</td></tr>\n",
       "\t<tr><td>1984</td><td>0</td><td>38</td><td>14</td><td> 7.5</td><td>GB </td><td>MIN</td><td>16</td></tr>\n",
       "\t<tr><td>1984</td><td>1</td><td>52</td><td>21</td><td>13.5</td><td>CIN</td><td>BUF</td><td>16</td></tr>\n",
       "\t<tr><td>1984</td><td>1</td><td>13</td><td>30</td><td> 0.0</td><td>DET</td><td>CHI</td><td>16</td></tr>\n",
       "\t<tr><td>1984</td><td>1</td><td>21</td><td>42</td><td> 2.5</td><td>SD </td><td>KC </td><td>16</td></tr>\n",
       "\t<tr><td>1984</td><td>0</td><td>10</td><td>26</td><td> 3.0</td><td>PHA</td><td>ATL</td><td>16</td></tr>\n",
       "\t<tr><td>1984</td><td>1</td><td> 7</td><td>13</td><td> 6.0</td><td>LAA</td><td>PIT</td><td>16</td></tr>\n",
       "\t<tr><td>1984</td><td>1</td><td>28</td><td>21</td><td> 6.5</td><td>MIA</td><td>DAL</td><td>16</td></tr>\n",
       "</tbody>\n",
       "</table>\n"
      ],
      "text/latex": [
       "A data.frame: 672 × 8\n",
       "\\begin{tabular}{r|llllllll}\n",
       " year & home & favorite & underdog & spread & favorite.name & underdog.name & week\\\\\n",
       " <int> & <int> & <int> & <int> & <dbl> & <fct> & <fct> & <int>\\\\\n",
       "\\hline\n",
       "\t 1981 & 1 & 21 & 13 &  2.0 & TB  & MIN & 1\\\\\n",
       "\t 1981 & 1 & 27 &  0 &  9.5 & ATL & NO  & 1\\\\\n",
       "\t 1981 & 1 & 31 &  0 &  4.0 & BUF & NYJ & 1\\\\\n",
       "\t 1981 & 1 &  9 & 16 &  4.0 & CHI & GB  & 1\\\\\n",
       "\t 1981 & 1 & 27 & 21 &  4.5 & CIN & SEA & 1\\\\\n",
       "\t 1981 & 0 & 26 & 10 &  2.0 & DAL & WAS & 1\\\\\n",
       "\t 1981 & 1 & 24 & 17 &  5.0 & DET & SF  & 1\\\\\n",
       "\t 1981 & 1 & 20 & 27 &  6.0 & LAN & HOU & 1\\\\\n",
       "\t 1981 & 0 & 20 &  7 &  1.0 & MIA & PHX & 1\\\\\n",
       "\t 1981 & 1 & 28 & 29 &  6.5 & NE  & IND & 1\\\\\n",
       "\t 1981 & 0 &  7 &  9 &  2.5 & LAA & DEN & 1\\\\\n",
       "\t 1981 & 0 & 24 & 10 &  6.0 & PHA & NYG & 1\\\\\n",
       "\t 1981 & 1 & 33 & 37 &  9.5 & PIT & KC  & 1\\\\\n",
       "\t 1981 & 1 & 14 & 44 &  2.0 & CLE & SD  & 1\\\\\n",
       "\t 1981 & 1 & 30 & 10 &  2.0 & MIA & PIT & 2\\\\\n",
       "\t 1981 & 0 & 31 & 17 &  4.5 & ATL & GB  & 2\\\\\n",
       "\t 1981 & 0 & 35 &  3 &  2.5 & BUF & IND & 2\\\\\n",
       "\t 1981 & 1 &  3 &  9 &  3.5 & CLE & HOU & 2\\\\\n",
       "\t 1981 & 1 & 30 & 17 & 10.5 & DAL & PHX & 2\\\\\n",
       "\t 1981 & 0 & 10 & 13 &  1.0 & DEN & SEA & 2\\\\\n",
       "\t 1981 & 1 & 19 & 10 &  3.5 & KC  & TB  & 2\\\\\n",
       "\t 1981 & 0 & 17 & 23 &  7.0 & LAN & NO  & 2\\\\\n",
       "\t 1981 & 1 & 30 & 31 &  4.0 & NYJ & CIN & 2\\\\\n",
       "\t 1981 & 1 & 13 &  3 &  3.5 & PHA & NE  & 2\\\\\n",
       "\t 1981 & 1 & 28 & 23 &  7.0 & SD  & DET & 2\\\\\n",
       "\t 1981 & 1 & 28 & 17 &  1.0 & SF  & CHI & 2\\\\\n",
       "\t 1981 & 1 &  7 & 17 &  6.5 & WAS & NYG & 2\\\\\n",
       "\t 1981 & 0 & 36 & 10 &  2.5 & LAA & MIN & 2\\\\\n",
       "\t 1981 & 1 & 14 & 20 &  4.0 & BUF & PHA & 3\\\\\n",
       "\t 1981 & 1 & 34 & 17 &  9.5 & ATL & SF  & 3\\\\\n",
       "\t ... & ... & ... & ... & ... & ... & ... & ...\\\\\n",
       "\t 1984 & 1 & 34 & 21 &  7.0 & LAN & NO  & 14\\\\\n",
       "\t 1984 & 1 & 20 &  7 &  1.0 & SD  & CHI & 14\\\\\n",
       "\t 1984 & 1 & 21 & 17 &  7.0 & NYJ & BUF & 15\\\\\n",
       "\t 1984 & 1 & 51 &  7 & 16.5 & SF  & MIN & 15\\\\\n",
       "\t 1984 & 1 & 23 & 20 &  7.0 & PIT & CLE & 15\\\\\n",
       "\t 1984 & 1 & 23 &  6 &  7.5 & TB  & ATL & 15\\\\\n",
       "\t 1984 & 0 & 35 & 17 & 14.0 & MIA & IND & 15\\\\\n",
       "\t 1984 & 0 & 24 & 21 &  2.5 & CIN & NO  & 15\\\\\n",
       "\t 1984 & 1 & 31 & 21 &  4.0 & PHX & NYG & 15\\\\\n",
       "\t 1984 & 0 & 20 & 14 &  0.0 & GB  & CHI & 15\\\\\n",
       "\t 1984 & 0 &  7 & 34 &  4.5 & SEA & KC  & 15\\\\\n",
       "\t 1984 & 0 & 17 & 27 &  3.0 & NE  & PHA & 15\\\\\n",
       "\t 1984 & 1 & 27 & 16 & 11.5 & LAN & HOU & 15\\\\\n",
       "\t 1984 & 0 & 30 & 28 &  1.0 & WAS & DAL & 15\\\\\n",
       "\t 1984 & 1 & 16 & 13 &  7.0 & DEN & SD  & 15\\\\\n",
       "\t 1984 & 0 & 24 &  3 &  7.0 & LAA & DET & 15\\\\\n",
       "\t 1984 & 1 & 19 & 16 &  6.5 & SF  & LAN & 16\\\\\n",
       "\t 1984 & 1 &  3 & 10 &  9.0 & NYG & NO  & 16\\\\\n",
       "\t 1984 & 1 & 14 & 31 &  4.0 & SEA & DEN & 16\\\\\n",
       "\t 1984 & 1 & 41 & 21 &  4.0 & TB  & NYJ & 16\\\\\n",
       "\t 1984 & 1 & 16 & 10 & 10.0 & NE  & IND & 16\\\\\n",
       "\t 1984 & 1 & 20 & 27 &  2.0 & HOU & CLE & 16\\\\\n",
       "\t 1984 & 1 & 29 & 27 &  6.5 & WAS & PHX & 16\\\\\n",
       "\t 1984 & 0 & 38 & 14 &  7.5 & GB  & MIN & 16\\\\\n",
       "\t 1984 & 1 & 52 & 21 & 13.5 & CIN & BUF & 16\\\\\n",
       "\t 1984 & 1 & 13 & 30 &  0.0 & DET & CHI & 16\\\\\n",
       "\t 1984 & 1 & 21 & 42 &  2.5 & SD  & KC  & 16\\\\\n",
       "\t 1984 & 0 & 10 & 26 &  3.0 & PHA & ATL & 16\\\\\n",
       "\t 1984 & 1 &  7 & 13 &  6.0 & LAA & PIT & 16\\\\\n",
       "\t 1984 & 1 & 28 & 21 &  6.5 & MIA & DAL & 16\\\\\n",
       "\\end{tabular}\n"
      ],
      "text/markdown": [
       "\n",
       "A data.frame: 672 × 8\n",
       "\n",
       "| year &lt;int&gt; | home &lt;int&gt; | favorite &lt;int&gt; | underdog &lt;int&gt; | spread &lt;dbl&gt; | favorite.name &lt;fct&gt; | underdog.name &lt;fct&gt; | week &lt;int&gt; |\n",
       "|---|---|---|---|---|---|---|---|\n",
       "| 1981 | 1 | 21 | 13 |  2.0 | TB  | MIN | 1 |\n",
       "| 1981 | 1 | 27 |  0 |  9.5 | ATL | NO  | 1 |\n",
       "| 1981 | 1 | 31 |  0 |  4.0 | BUF | NYJ | 1 |\n",
       "| 1981 | 1 |  9 | 16 |  4.0 | CHI | GB  | 1 |\n",
       "| 1981 | 1 | 27 | 21 |  4.5 | CIN | SEA | 1 |\n",
       "| 1981 | 0 | 26 | 10 |  2.0 | DAL | WAS | 1 |\n",
       "| 1981 | 1 | 24 | 17 |  5.0 | DET | SF  | 1 |\n",
       "| 1981 | 1 | 20 | 27 |  6.0 | LAN | HOU | 1 |\n",
       "| 1981 | 0 | 20 |  7 |  1.0 | MIA | PHX | 1 |\n",
       "| 1981 | 1 | 28 | 29 |  6.5 | NE  | IND | 1 |\n",
       "| 1981 | 0 |  7 |  9 |  2.5 | LAA | DEN | 1 |\n",
       "| 1981 | 0 | 24 | 10 |  6.0 | PHA | NYG | 1 |\n",
       "| 1981 | 1 | 33 | 37 |  9.5 | PIT | KC  | 1 |\n",
       "| 1981 | 1 | 14 | 44 |  2.0 | CLE | SD  | 1 |\n",
       "| 1981 | 1 | 30 | 10 |  2.0 | MIA | PIT | 2 |\n",
       "| 1981 | 0 | 31 | 17 |  4.5 | ATL | GB  | 2 |\n",
       "| 1981 | 0 | 35 |  3 |  2.5 | BUF | IND | 2 |\n",
       "| 1981 | 1 |  3 |  9 |  3.5 | CLE | HOU | 2 |\n",
       "| 1981 | 1 | 30 | 17 | 10.5 | DAL | PHX | 2 |\n",
       "| 1981 | 0 | 10 | 13 |  1.0 | DEN | SEA | 2 |\n",
       "| 1981 | 1 | 19 | 10 |  3.5 | KC  | TB  | 2 |\n",
       "| 1981 | 0 | 17 | 23 |  7.0 | LAN | NO  | 2 |\n",
       "| 1981 | 1 | 30 | 31 |  4.0 | NYJ | CIN | 2 |\n",
       "| 1981 | 1 | 13 |  3 |  3.5 | PHA | NE  | 2 |\n",
       "| 1981 | 1 | 28 | 23 |  7.0 | SD  | DET | 2 |\n",
       "| 1981 | 1 | 28 | 17 |  1.0 | SF  | CHI | 2 |\n",
       "| 1981 | 1 |  7 | 17 |  6.5 | WAS | NYG | 2 |\n",
       "| 1981 | 0 | 36 | 10 |  2.5 | LAA | MIN | 2 |\n",
       "| 1981 | 1 | 14 | 20 |  4.0 | BUF | PHA | 3 |\n",
       "| 1981 | 1 | 34 | 17 |  9.5 | ATL | SF  | 3 |\n",
       "| ... | ... | ... | ... | ... | ... | ... | ... |\n",
       "| 1984 | 1 | 34 | 21 |  7.0 | LAN | NO  | 14 |\n",
       "| 1984 | 1 | 20 |  7 |  1.0 | SD  | CHI | 14 |\n",
       "| 1984 | 1 | 21 | 17 |  7.0 | NYJ | BUF | 15 |\n",
       "| 1984 | 1 | 51 |  7 | 16.5 | SF  | MIN | 15 |\n",
       "| 1984 | 1 | 23 | 20 |  7.0 | PIT | CLE | 15 |\n",
       "| 1984 | 1 | 23 |  6 |  7.5 | TB  | ATL | 15 |\n",
       "| 1984 | 0 | 35 | 17 | 14.0 | MIA | IND | 15 |\n",
       "| 1984 | 0 | 24 | 21 |  2.5 | CIN | NO  | 15 |\n",
       "| 1984 | 1 | 31 | 21 |  4.0 | PHX | NYG | 15 |\n",
       "| 1984 | 0 | 20 | 14 |  0.0 | GB  | CHI | 15 |\n",
       "| 1984 | 0 |  7 | 34 |  4.5 | SEA | KC  | 15 |\n",
       "| 1984 | 0 | 17 | 27 |  3.0 | NE  | PHA | 15 |\n",
       "| 1984 | 1 | 27 | 16 | 11.5 | LAN | HOU | 15 |\n",
       "| 1984 | 0 | 30 | 28 |  1.0 | WAS | DAL | 15 |\n",
       "| 1984 | 1 | 16 | 13 |  7.0 | DEN | SD  | 15 |\n",
       "| 1984 | 0 | 24 |  3 |  7.0 | LAA | DET | 15 |\n",
       "| 1984 | 1 | 19 | 16 |  6.5 | SF  | LAN | 16 |\n",
       "| 1984 | 1 |  3 | 10 |  9.0 | NYG | NO  | 16 |\n",
       "| 1984 | 1 | 14 | 31 |  4.0 | SEA | DEN | 16 |\n",
       "| 1984 | 1 | 41 | 21 |  4.0 | TB  | NYJ | 16 |\n",
       "| 1984 | 1 | 16 | 10 | 10.0 | NE  | IND | 16 |\n",
       "| 1984 | 1 | 20 | 27 |  2.0 | HOU | CLE | 16 |\n",
       "| 1984 | 1 | 29 | 27 |  6.5 | WAS | PHX | 16 |\n",
       "| 1984 | 0 | 38 | 14 |  7.5 | GB  | MIN | 16 |\n",
       "| 1984 | 1 | 52 | 21 | 13.5 | CIN | BUF | 16 |\n",
       "| 1984 | 1 | 13 | 30 |  0.0 | DET | CHI | 16 |\n",
       "| 1984 | 1 | 21 | 42 |  2.5 | SD  | KC  | 16 |\n",
       "| 1984 | 0 | 10 | 26 |  3.0 | PHA | ATL | 16 |\n",
       "| 1984 | 1 |  7 | 13 |  6.0 | LAA | PIT | 16 |\n",
       "| 1984 | 1 | 28 | 21 |  6.5 | MIA | DAL | 16 |\n",
       "\n"
      ],
      "text/plain": [
       "    year home favorite underdog spread favorite.name underdog.name week\n",
       "1   1981 1    21       13        2.0   TB            MIN           1   \n",
       "2   1981 1    27        0        9.5   ATL           NO            1   \n",
       "3   1981 1    31        0        4.0   BUF           NYJ           1   \n",
       "4   1981 1     9       16        4.0   CHI           GB            1   \n",
       "5   1981 1    27       21        4.5   CIN           SEA           1   \n",
       "6   1981 0    26       10        2.0   DAL           WAS           1   \n",
       "7   1981 1    24       17        5.0   DET           SF            1   \n",
       "8   1981 1    20       27        6.0   LAN           HOU           1   \n",
       "9   1981 0    20        7        1.0   MIA           PHX           1   \n",
       "10  1981 1    28       29        6.5   NE            IND           1   \n",
       "11  1981 0     7        9        2.5   LAA           DEN           1   \n",
       "12  1981 0    24       10        6.0   PHA           NYG           1   \n",
       "13  1981 1    33       37        9.5   PIT           KC            1   \n",
       "14  1981 1    14       44        2.0   CLE           SD            1   \n",
       "15  1981 1    30       10        2.0   MIA           PIT           2   \n",
       "16  1981 0    31       17        4.5   ATL           GB            2   \n",
       "17  1981 0    35        3        2.5   BUF           IND           2   \n",
       "18  1981 1     3        9        3.5   CLE           HOU           2   \n",
       "19  1981 1    30       17       10.5   DAL           PHX           2   \n",
       "20  1981 0    10       13        1.0   DEN           SEA           2   \n",
       "21  1981 1    19       10        3.5   KC            TB            2   \n",
       "22  1981 0    17       23        7.0   LAN           NO            2   \n",
       "23  1981 1    30       31        4.0   NYJ           CIN           2   \n",
       "24  1981 1    13        3        3.5   PHA           NE            2   \n",
       "25  1981 1    28       23        7.0   SD            DET           2   \n",
       "26  1981 1    28       17        1.0   SF            CHI           2   \n",
       "27  1981 1     7       17        6.5   WAS           NYG           2   \n",
       "28  1981 0    36       10        2.5   LAA           MIN           2   \n",
       "29  1981 1    14       20        4.0   BUF           PHA           3   \n",
       "30  1981 1    34       17        9.5   ATL           SF            3   \n",
       "... ...  ...  ...      ...      ...    ...           ...           ... \n",
       "643 1984 1    34       21        7.0   LAN           NO            14  \n",
       "644 1984 1    20        7        1.0   SD            CHI           14  \n",
       "645 1984 1    21       17        7.0   NYJ           BUF           15  \n",
       "646 1984 1    51        7       16.5   SF            MIN           15  \n",
       "647 1984 1    23       20        7.0   PIT           CLE           15  \n",
       "648 1984 1    23        6        7.5   TB            ATL           15  \n",
       "649 1984 0    35       17       14.0   MIA           IND           15  \n",
       "650 1984 0    24       21        2.5   CIN           NO            15  \n",
       "651 1984 1    31       21        4.0   PHX           NYG           15  \n",
       "652 1984 0    20       14        0.0   GB            CHI           15  \n",
       "653 1984 0     7       34        4.5   SEA           KC            15  \n",
       "654 1984 0    17       27        3.0   NE            PHA           15  \n",
       "655 1984 1    27       16       11.5   LAN           HOU           15  \n",
       "656 1984 0    30       28        1.0   WAS           DAL           15  \n",
       "657 1984 1    16       13        7.0   DEN           SD            15  \n",
       "658 1984 0    24        3        7.0   LAA           DET           15  \n",
       "659 1984 1    19       16        6.5   SF            LAN           16  \n",
       "660 1984 1     3       10        9.0   NYG           NO            16  \n",
       "661 1984 1    14       31        4.0   SEA           DEN           16  \n",
       "662 1984 1    41       21        4.0   TB            NYJ           16  \n",
       "663 1984 1    16       10       10.0   NE            IND           16  \n",
       "664 1984 1    20       27        2.0   HOU           CLE           16  \n",
       "665 1984 1    29       27        6.5   WAS           PHX           16  \n",
       "666 1984 0    38       14        7.5   GB            MIN           16  \n",
       "667 1984 1    52       21       13.5   CIN           BUF           16  \n",
       "668 1984 1    13       30        0.0   DET           CHI           16  \n",
       "669 1984 1    21       42        2.5   SD            KC            16  \n",
       "670 1984 0    10       26        3.0   PHA           ATL           16  \n",
       "671 1984 1     7       13        6.0   LAA           PIT           16  \n",
       "672 1984 1    28       21        6.5   MIA           DAL           16  "
      ]
     },
     "metadata": {},
     "output_type": "display_data"
    }
   ],
   "source": [
    "footballscores"
   ]
  },
  {
   "cell_type": "code",
   "execution_count": 7,
   "metadata": {},
   "outputs": [],
   "source": [
    "attach(footballscores)"
   ]
  },
  {
   "cell_type": "code",
   "execution_count": 8,
   "metadata": {},
   "outputs": [],
   "source": [
    "x=favorite-underdog-spread"
   ]
  },
  {
   "cell_type": "code",
   "execution_count": 9,
   "metadata": {},
   "outputs": [
    {
     "data": {
      "image/png": "[encoded data removed]",
      "text/plain": [
       "Plot with title \"Histogram of x\""
      ]
     },
     "metadata": {},
     "output_type": "display_data"
    }
   ],
   "source": [
    "h=hist(x, pr=T, col=\"gold\")"
   ]
  },
  {
   "cell_type": "code",
   "execution_count": 10,
   "metadata": {},
   "outputs": [],
   "source": [
    "n=length(x)\n",
    "v=sum(x^2)"
   ]
  },
  {
   "cell_type": "code",
   "execution_count": 11,
   "metadata": {},
   "outputs": [],
   "source": [
    "p=rchisq(1000, n) / v"
   ]
  },
  {
   "cell_type": "code",
   "execution_count": 12,
   "metadata": {},
   "outputs": [
    {
     "data": {
      "text/html": [
       "192.463640335189"
      ],
      "text/latex": [
       "192.463640335189"
      ],
      "text/markdown": [
       "192.463640335189"
      ],
      "text/plain": [
       "[1] 192.4636"
      ]
     },
     "metadata": {},
     "output_type": "display_data"
    }
   ],
   "source": [
    "mean(1/p)"
   ]
  },
  {
   "cell_type": "code",
   "execution_count": 13,
   "metadata": {},
   "outputs": [
    {
     "data": {
      "text/html": [
       "13.8678077987783"
      ],
      "text/latex": [
       "13.8678077987783"
      ],
      "text/markdown": [
       "13.8678077987783"
      ],
      "text/plain": [
       "[1] 13.86781"
      ]
     },
     "metadata": {},
     "output_type": "display_data"
    }
   ],
   "source": [
    "std=mean(sqrt(1/p))\n",
    "std"
   ]
  },
  {
   "cell_type": "code",
   "execution_count": 14,
   "metadata": {},
   "outputs": [
    {
     "data": {
      "text/html": [
       "<dl class=dl-horizontal>\n",
       "\t<dt>5%</dt>\n",
       "\t\t<dd>13.2668848046577</dd>\n",
       "\t<dt>50%</dt>\n",
       "\t\t<dd>13.8485407037746</dd>\n",
       "\t<dt>95%</dt>\n",
       "\t\t<dd>14.5338364748573</dd>\n",
       "</dl>\n"
      ],
      "text/latex": [
       "\\begin{description*}\n",
       "\\item[5\\textbackslash{}\\%] 13.2668848046577\n",
       "\\item[50\\textbackslash{}\\%] 13.8485407037746\n",
       "\\item[95\\textbackslash{}\\%] 14.5338364748573\n",
       "\\end{description*}\n"
      ],
      "text/markdown": [
       "5%\n",
       ":   13.266884804657750%\n",
       ":   13.848540703774695%\n",
       ":   14.5338364748573\n",
       "\n"
      ],
      "text/plain": [
       "      5%      50%      95% \n",
       "13.26688 13.84854 14.53384 "
      ]
     },
     "metadata": {},
     "output_type": "display_data"
    }
   ],
   "source": [
    "quantile(sqrt(1/p),probs=c(0.05, 0.5, 0.95))"
   ]
  },
  {
   "cell_type": "code",
   "execution_count": 6,
   "metadata": {},
   "outputs": [],
   "source": [
    "detach(footballscores)"
   ]
  },
  {
   "cell_type": "code",
   "execution_count": null,
   "metadata": {},
   "outputs": [],
   "source": []
  }
 ],
 "metadata": {
  "kernelspec": {
   "display_name": "R",
   "language": "R",
   "name": "ir"
  },
  "language_info": {
   "codemirror_mode": "r",
   "file_extension": ".r",
   "mimetype": "text/x-r-source",
   "name": "R",
   "pygments_lexer": "r",
   "version": "3.6.1"
  }
 },
 "nbformat": 4,
 "nbformat_minor": 2
}
