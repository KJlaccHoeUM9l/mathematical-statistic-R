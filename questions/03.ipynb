{
 "cells": [
  {
   "cell_type": "markdown",
   "metadata": {},
   "source": [
    "## 3. \n",
    "* ## Типы статистических данных (числовые, ординальные, номинальные). \n",
    "* ## Частотные распределения (одномерные и многомерные). \n",
    "* ## Маргинальные частотные распределения. \n",
    "* ## Проблема нахождения выборочных числовых характеристик по группированным данным. Ее решение в пакете R."
   ]
  },
  {
   "cell_type": "markdown",
   "metadata": {},
   "source": [
    "`Числовыми` статистическими данными можно представить вектор целых чисел: "
   ]
  },
  {
   "cell_type": "code",
   "execution_count": 1,
   "metadata": {},
   "outputs": [
    {
     "data": {
      "text/html": [
       "<ol class=list-inline>\n",
       "\t<li>1</li>\n",
       "\t<li>2</li>\n",
       "\t<li>3</li>\n",
       "</ol>\n"
      ],
      "text/latex": [
       "\\begin{enumerate*}\n",
       "\\item 1\n",
       "\\item 2\n",
       "\\item 3\n",
       "\\end{enumerate*}\n"
      ],
      "text/markdown": [
       "1. 1\n",
       "2. 2\n",
       "3. 3\n",
       "\n",
       "\n"
      ],
      "text/plain": [
       "[1] 1 2 3"
      ]
     },
     "metadata": {},
     "output_type": "display_data"
    }
   ],
   "source": [
    "c(1,2,3)"
   ]
  },
  {
   "cell_type": "markdown",
   "metadata": {},
   "source": [
    "`Номинальная` шкала подразумевает, что существует несколько классов объектов, однако никакие соотношения между этими классами в терминах количества не определены\n",
    "\n",
    "Таким примером является **пол** (*мужской*/*женский*)"
   ]
  },
  {
   "cell_type": "code",
   "execution_count": 4,
   "metadata": {},
   "outputs": [
    {
     "data": {
      "text/html": [
       "<ol class=list-inline>\n",
       "\t<li>'мужской'</li>\n",
       "\t<li>'мужской'</li>\n",
       "\t<li>'женский'</li>\n",
       "\t<li>'женский'</li>\n",
       "</ol>\n"
      ],
      "text/latex": [
       "\\begin{enumerate*}\n",
       "\\item 'мужской'\n",
       "\\item 'мужской'\n",
       "\\item 'женский'\n",
       "\\item 'женский'\n",
       "\\end{enumerate*}\n"
      ],
      "text/markdown": [
       "1. 'мужской'\n",
       "2. 'мужской'\n",
       "3. 'женский'\n",
       "4. 'женский'\n",
       "\n",
       "\n"
      ],
      "text/plain": [
       "[1] \"мужской\" \"мужской\" \"женский\" \"женский\""
      ]
     },
     "metadata": {},
     "output_type": "display_data"
    }
   ],
   "source": [
    "c('мужской','мужской','женский','женский')"
   ]
  },
  {
   "cell_type": "markdown",
   "metadata": {},
   "source": [
    "`Ординалная` шкала подразумевает упорядоченность относительно разных классов.\n",
    "\n",
    "Таким примером является **состояние здоровья больного** (*легкой тяжести*, *средней тяжести*, *тяжелое*)"
   ]
  },
  {
   "cell_type": "code",
   "execution_count": 5,
   "metadata": {},
   "outputs": [
    {
     "data": {
      "text/html": [
       "<ol class=list-inline>\n",
       "\t<li>'легкой тяжести'</li>\n",
       "\t<li>'легкой тяжести'</li>\n",
       "\t<li>'тяжелое'</li>\n",
       "</ol>\n"
      ],
      "text/latex": [
       "\\begin{enumerate*}\n",
       "\\item 'легкой тяжести'\n",
       "\\item 'легкой тяжести'\n",
       "\\item 'тяжелое'\n",
       "\\end{enumerate*}\n"
      ],
      "text/markdown": [
       "1. 'легкой тяжести'\n",
       "2. 'легкой тяжести'\n",
       "3. 'тяжелое'\n",
       "\n",
       "\n"
      ],
      "text/plain": [
       "[1] \"легкой тяжести\" \"легкой тяжести\" \"тяжелое\"       "
      ]
     },
     "metadata": {},
     "output_type": "display_data"
    }
   ],
   "source": [
    "c('легкой тяжести','легкой тяжести','тяжелое')"
   ]
  },
  {
   "cell_type": "markdown",
   "metadata": {},
   "source": [
    "**Частотное распределение** — метод статистического описания данных"
   ]
  },
  {
   "cell_type": "markdown",
   "metadata": {},
   "source": [
    "#### Пример одномерного распределения"
   ]
  },
  {
   "cell_type": "code",
   "execution_count": 10,
   "metadata": {},
   "outputs": [
    {
     "data": {
      "text/plain": [
       "gender\n",
       "женский мужской \n",
       "      3       4 "
      ]
     },
     "metadata": {},
     "output_type": "display_data"
    },
    {
     "data": {
      "image/png": "[encoded data removed]",
      "text/plain": [
       "plot without title"
      ]
     },
     "metadata": {},
     "output_type": "display_data"
    }
   ],
   "source": [
    "gender <- c(\"мужской\",\"женский\",\"женский\",\"мужской\",\"мужской\",\"мужской\",\"женский\")\n",
    "table(gender)\n",
    "plot(table(gender))"
   ]
  },
  {
   "cell_type": "markdown",
   "metadata": {},
   "source": [
    "#### Пример двумерного распределения"
   ]
  },
  {
   "cell_type": "code",
   "execution_count": 11,
   "metadata": {},
   "outputs": [
    {
     "data": {
      "text/plain": [
       "         election\n",
       "gender    да нет\n",
       "  женский  1   2\n",
       "  мужской  3   1"
      ]
     },
     "metadata": {},
     "output_type": "display_data"
    },
    {
     "data": {
      "image/png": "[encoded data removed]",
      "text/plain": [
       "Plot with title “table(gender, election)”"
      ]
     },
     "metadata": {},
     "output_type": "display_data"
    }
   ],
   "source": [
    "election <- c(\"да\",\"да\",\"нет\",\"нет\",\"да\",\"да\",\"нет\")\n",
    "table(gender,election)\n",
    "plot(table(gender,election))"
   ]
  },
  {
   "cell_type": "markdown",
   "metadata": {},
   "source": [
    "**[Маргинальное распределение](http://cyclowiki.org/wiki/%D0%9C%D0%B0%D1%80%D0%B3%D0%B8%D0%BD%D0%B0%D0%BB%D1%8C%D0%BD%D0%BE%D0%B5_%D1%80%D0%B0%D1%81%D0%BF%D1%80%D0%B5%D0%B4%D0%B5%D0%BB%D0%B5%D0%BD%D0%B8%D0%B5)** - это сумма частотных распределений"
   ]
  },
  {
   "cell_type": "code",
   "execution_count": 23,
   "metadata": {},
   "outputs": [
    {
     "data": {
      "text/plain": [
       "gender\n",
       "женский мужской \n",
       "      3       4 "
      ]
     },
     "metadata": {},
     "output_type": "display_data"
    }
   ],
   "source": [
    "gender <- c(\"мужской\",\"женский\",\"женский\",\"мужской\",\"мужской\",\"мужской\",\"женский\")\n",
    "table(gender)"
   ]
  },
  {
   "cell_type": "code",
   "execution_count": 24,
   "metadata": {},
   "outputs": [
    {
     "data": {
      "text/html": [
       "7"
      ],
      "text/latex": [
       "7"
      ],
      "text/markdown": [
       "7"
      ],
      "text/plain": [
       "[1] 7"
      ]
     },
     "metadata": {},
     "output_type": "display_data"
    }
   ],
   "source": [
    "sum(table(gender)) -> margin_value\n",
    "margin_value"
   ]
  },
  {
   "cell_type": "code",
   "execution_count": 30,
   "metadata": {},
   "outputs": [
    {
     "data": {
      "text/html": [
       "<ol class=list-inline>\n",
       "\t<li>7</li>\n",
       "\t<li>2</li>\n",
       "</ol>\n"
      ],
      "text/latex": [
       "\\begin{enumerate*}\n",
       "\\item 7\n",
       "\\item 2\n",
       "\\end{enumerate*}\n"
      ],
      "text/markdown": [
       "1. 7\n",
       "2. 2\n",
       "\n",
       "\n"
      ],
      "text/plain": [
       "[1] 7 2"
      ]
     },
     "metadata": {},
     "output_type": "display_data"
    }
   ],
   "source": [
    "gender_first <- c(\"мужской\",\"женский\",\"женский\",\"мужской\",\"мужской\",\"мужской\",\"женский\")\n",
    "gender_second <- c(\"мужской\",\"женский\")\n",
    "\n",
    "c(sum(table(gender_first)), sum(table(gender_second))) -> margin_value\n",
    "margin_value"
   ]
  },
  {
   "cell_type": "markdown",
   "metadata": {},
   "source": [
    "Для подсчета различных числовых характеристик на сгруппированных данных, нужно создать так называемую `фейковую выборку`"
   ]
  },
  {
   "cell_type": "code",
   "execution_count": 31,
   "metadata": {},
   "outputs": [],
   "source": [
    "fake_sample = rep(table(rpois(100,5)), 100)"
   ]
  },
  {
   "cell_type": "code",
   "execution_count": 32,
   "metadata": {},
   "outputs": [
    {
     "data": {
      "text/html": [
       "8.33333333333333"
      ],
      "text/latex": [
       "8.33333333333333"
      ],
      "text/markdown": [
       "8.33333333333333"
      ],
      "text/plain": [
       "[1] 8.333333"
      ]
     },
     "metadata": {},
     "output_type": "display_data"
    }
   ],
   "source": [
    "mean(fake_sample)"
   ]
  },
  {
   "cell_type": "code",
   "execution_count": 33,
   "metadata": {},
   "outputs": [
    {
     "data": {
      "text/html": [
       "6.52618173939672"
      ],
      "text/latex": [
       "6.52618173939672"
      ],
      "text/markdown": [
       "6.52618173939672"
      ],
      "text/plain": [
       "[1] 6.526182"
      ]
     },
     "metadata": {},
     "output_type": "display_data"
    }
   ],
   "source": [
    "sd(fake_sample)"
   ]
  }
 ],
 "metadata": {
  "kernelspec": {
   "display_name": "R",
   "language": "R",
   "name": "ir"
  },
  "language_info": {
   "codemirror_mode": "r",
   "file_extension": ".r",
   "mimetype": "text/x-r-source",
   "name": "R",
   "pygments_lexer": "r",
   "version": "3.4.4"
  }
 },
 "nbformat": 4,
 "nbformat_minor": 2
}
